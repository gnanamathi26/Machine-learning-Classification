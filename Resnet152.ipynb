{
  "nbformat": 4,
  "nbformat_minor": 0,
  "metadata": {
    "colab": {
      "name": "Resnet152.ipynb",
      "provenance": [],
      "collapsed_sections": [],
      "mount_file_id": "103sm8--D1RaJFKq6aq2Gd61Z1hTwDN4-",
      "authorship_tag": "ABX9TyO+PCQw0z4Ielx6xVjHGyAF"
    },
    "kernelspec": {
      "name": "python3",
      "display_name": "Python 3"
    },
    "language_info": {
      "name": "python"
    }
  },
  "cells": [
    {
      "cell_type": "code",
      "execution_count": 1,
      "metadata": {
        "id": "HrCn0m_Iy1hC"
      },
      "outputs": [],
      "source": [
        "import matplotlib.pyplot as plt\n",
        "from skimage.feature import greycomatrix, greycoprops\n",
        "from skimage import io\n",
        "import cv2\n",
        "import numpy as np\n",
        "import os\n",
        "from PIL import Image\n",
        "import numpy as np\n",
        "import pandas as pd\n",
        "import os\n",
        "import seaborn as sns\n",
        "from PIL import Image\n",
        "import cv2\n",
        "from sklearn.metrics import f1_score\n",
        "from keras.preprocessing.image import ImageDataGenerator, load_img\n",
        "from skimage.filters import sobel\n",
        "from skimage.measure import shannon_entropy\n",
        "from skimage import img_as_ubyte\n",
        "from sklearn.metrics import f1_score\n",
        "from keras.preprocessing import image\n",
        "from keras.preprocessing.image import ImageDataGenerator, load_img\n",
        "from sklearn.model_selection import GridSearchCV\n",
        "from sklearn import svm\n",
        "from sklearn.model_selection import train_test_split"
      ]
    },
    {
      "cell_type": "code",
      "source": [
        "tumor=os.listdir('/content/drive/MyDrive/BT_Aug/yes')\n",
        "non_tumor=os.listdir('/content/drive/MyDrive/BT_Aug/no')"
      ],
      "metadata": {
        "id": "m0eRwcXFy9J9"
      },
      "execution_count": 2,
      "outputs": []
    },
    {
      "cell_type": "code",
      "source": [
        "data=np.concatenate([tumor,non_tumor])"
      ],
      "metadata": {
        "id": "oIuXOqdQy_6R"
      },
      "execution_count": 3,
      "outputs": []
    },
    {
      "cell_type": "code",
      "source": [
        "data"
      ],
      "metadata": {
        "colab": {
          "base_uri": "https://localhost:8080/"
        },
        "id": "lYWdbtI-y_4P",
        "outputId": "f0cfab90-6396-4396-ef7a-b8f25430f55f"
      },
      "execution_count": 4,
      "outputs": [
        {
          "output_type": "execute_result",
          "data": {
            "text/plain": [
              "array(['aug_Y250_0_5875.jpg', 'aug_Y257_0_1557.jpg', 'aug_Y25_0_3449.jpg',\n",
              "       ..., 'aug_No13_0_5754.jpg', 'aug_no 3_0_1319.jpg',\n",
              "       'aug_14 no_0_4885.jpg'], dtype='<U21')"
            ]
          },
          "metadata": {},
          "execution_count": 4
        }
      ]
    },
    {
      "cell_type": "code",
      "source": [
        "target_x=np.full(len(tumor),1)"
      ],
      "metadata": {
        "id": "g2w4zylKy_2W"
      },
      "execution_count": 5,
      "outputs": []
    },
    {
      "cell_type": "code",
      "source": [
        "len(tumor)"
      ],
      "metadata": {
        "colab": {
          "base_uri": "https://localhost:8080/"
        },
        "id": "vxlCHaPoy_00",
        "outputId": "9e3e45b6-598b-4199-8653-60667aa09dd4"
      },
      "execution_count": 6,
      "outputs": [
        {
          "output_type": "execute_result",
          "data": {
            "text/plain": [
              "1085"
            ]
          },
          "metadata": {},
          "execution_count": 6
        }
      ]
    },
    {
      "cell_type": "code",
      "source": [
        "len(non_tumor)"
      ],
      "metadata": {
        "colab": {
          "base_uri": "https://localhost:8080/"
        },
        "id": "rHJG-ylty_y7",
        "outputId": "b0b4a312-4bc3-41c4-f4b3-8b1145c345fd"
      },
      "execution_count": 7,
      "outputs": [
        {
          "output_type": "execute_result",
          "data": {
            "text/plain": [
              "980"
            ]
          },
          "metadata": {},
          "execution_count": 7
        }
      ]
    },
    {
      "cell_type": "code",
      "source": [
        "target_x1=np.full(len(non_tumor),0)"
      ],
      "metadata": {
        "id": "vi5UUTxyy_w9"
      },
      "execution_count": 8,
      "outputs": []
    },
    {
      "cell_type": "code",
      "source": [
        "data_target=np.concatenate([target_x,target_x1])"
      ],
      "metadata": {
        "id": "S1CoCo7Ry_uI"
      },
      "execution_count": 9,
      "outputs": []
    },
    {
      "cell_type": "code",
      "source": [
        "X_data=[]"
      ],
      "metadata": {
        "id": "R9_PE5Hqy_sK"
      },
      "execution_count": 10,
      "outputs": []
    },
    {
      "cell_type": "code",
      "source": [
        "for file in tumor:\n",
        "  img = cv2.imread('/content/drive/MyDrive/BT_Aug/yes/' + file)\n",
        "  mri = cv2.resize(img, (256,256)) #convert all img to 256px\n",
        "  b, g , r = cv2.split(mri) #convert B G R format to R G B format\n",
        "  img = cv2.merge([r, g, b])\n",
        "  X_data.append(img) #add to li"
      ],
      "metadata": {
        "id": "QH7ffvPzy_pZ"
      },
      "execution_count": 11,
      "outputs": []
    },
    {
      "cell_type": "code",
      "source": [
        "for file in non_tumor:\n",
        "  img = cv2.imread('/content/drive/MyDrive/BT_Aug/no/' + file)\n",
        "  mri = cv2.resize(img, (256,256)) #convert all img to 256px\n",
        "  b, g , r = cv2.split(mri) #convert B G R format to R G B format\n",
        "  img = cv2.merge([r, g, b])\n",
        "  X_data.append(img) #add to li"
      ],
      "metadata": {
        "id": "Jb1p-0Qoy_nY"
      },
      "execution_count": 12,
      "outputs": []
    },
    {
      "cell_type": "code",
      "source": [
        "X=np.squeeze(X_data)"
      ],
      "metadata": {
        "id": "E4gcK2E2y_lg"
      },
      "execution_count": 13,
      "outputs": []
    },
    {
      "cell_type": "code",
      "source": [
        "X=X.astype('float32')"
      ],
      "metadata": {
        "id": "xxmt7sspy_jF"
      },
      "execution_count": 14,
      "outputs": []
    },
    {
      "cell_type": "code",
      "source": [
        "X/=255"
      ],
      "metadata": {
        "id": "lqjaOnzWy_hZ"
      },
      "execution_count": 15,
      "outputs": []
    },
    {
      "cell_type": "code",
      "source": [
        "X.shape"
      ],
      "metadata": {
        "colab": {
          "base_uri": "https://localhost:8080/"
        },
        "id": "b7b6Hak1y_dk",
        "outputId": "64ce25c1-1e7e-4fb7-c2d8-6b9ed1e95b5c"
      },
      "execution_count": 16,
      "outputs": [
        {
          "output_type": "execute_result",
          "data": {
            "text/plain": [
              "(2065, 256, 256, 3)"
            ]
          },
          "metadata": {},
          "execution_count": 16
        }
      ]
    },
    {
      "cell_type": "code",
      "source": [
        "x_train,x_test,y_train,y_test=train_test_split(X,data_target,test_size=0.1,random_state=3)"
      ],
      "metadata": {
        "id": "FvqhrVcxzZ2d"
      },
      "execution_count": 17,
      "outputs": []
    },
    {
      "cell_type": "code",
      "source": [
        "len(x_train)"
      ],
      "metadata": {
        "colab": {
          "base_uri": "https://localhost:8080/"
        },
        "id": "YcLKSVGzbzA4",
        "outputId": "a4b460af-1a51-479f-f27e-b5c5edf876f1"
      },
      "execution_count": 18,
      "outputs": [
        {
          "output_type": "execute_result",
          "data": {
            "text/plain": [
              "1858"
            ]
          },
          "metadata": {},
          "execution_count": 18
        }
      ]
    },
    {
      "cell_type": "code",
      "source": [
        "len(x_test)"
      ],
      "metadata": {
        "colab": {
          "base_uri": "https://localhost:8080/"
        },
        "id": "-HQUeXubb2dt",
        "outputId": "dc185bf7-5dd8-474d-dac6-cb33831e669c"
      },
      "execution_count": 19,
      "outputs": [
        {
          "output_type": "execute_result",
          "data": {
            "text/plain": [
              "207"
            ]
          },
          "metadata": {},
          "execution_count": 19
        }
      ]
    },
    {
      "cell_type": "code",
      "source": [
        "import keras\n",
        "from keras.applications.resnet import ResNet152\n",
        "from keras.models import Model\n",
        "restnet=ResNet152(include_top=False,weights='imagenet',input_shape=(256,256,3))\n",
        "output=restnet.layers[-1].output\n",
        "output=keras.layers.Flatten()(output)\n",
        "restnet=Model(restnet.input, outputs=output)\n",
        "for layer in restnet.layers:\n",
        "  layer.trainable=False\n",
        "restnet.summary()"
      ],
      "metadata": {
        "colab": {
          "base_uri": "https://localhost:8080/"
        },
        "id": "L5J1WyJ2zZwe",
        "outputId": "31b7c630-64fb-4636-a070-695af5a5b7f6"
      },
      "execution_count": 20,
      "outputs": [
        {
          "output_type": "stream",
          "name": "stdout",
          "text": [
            "Downloading data from https://storage.googleapis.com/tensorflow/keras-applications/resnet/resnet152_weights_tf_dim_ordering_tf_kernels_notop.h5\n",
            "234700800/234698864 [==============================] - 2s 0us/step\n",
            "234708992/234698864 [==============================] - 2s 0us/step\n",
            "Model: \"model\"\n",
            "__________________________________________________________________________________________________\n",
            " Layer (type)                   Output Shape         Param #     Connected to                     \n",
            "==================================================================================================\n",
            " input_1 (InputLayer)           [(None, 256, 256, 3  0           []                               \n",
            "                                )]                                                                \n",
            "                                                                                                  \n",
            " conv1_pad (ZeroPadding2D)      (None, 262, 262, 3)  0           ['input_1[0][0]']                \n",
            "                                                                                                  \n",
            " conv1_conv (Conv2D)            (None, 128, 128, 64  9472        ['conv1_pad[0][0]']              \n",
            "                                )                                                                 \n",
            "                                                                                                  \n",
            " conv1_bn (BatchNormalization)  (None, 128, 128, 64  256         ['conv1_conv[0][0]']             \n",
            "                                )                                                                 \n",
            "                                                                                                  \n",
            " conv1_relu (Activation)        (None, 128, 128, 64  0           ['conv1_bn[0][0]']               \n",
            "                                )                                                                 \n",
            "                                                                                                  \n",
            " pool1_pad (ZeroPadding2D)      (None, 130, 130, 64  0           ['conv1_relu[0][0]']             \n",
            "                                )                                                                 \n",
            "                                                                                                  \n",
            " pool1_pool (MaxPooling2D)      (None, 64, 64, 64)   0           ['pool1_pad[0][0]']              \n",
            "                                                                                                  \n",
            " conv2_block1_1_conv (Conv2D)   (None, 64, 64, 64)   4160        ['pool1_pool[0][0]']             \n",
            "                                                                                                  \n",
            " conv2_block1_1_bn (BatchNormal  (None, 64, 64, 64)  256         ['conv2_block1_1_conv[0][0]']    \n",
            " ization)                                                                                         \n",
            "                                                                                                  \n",
            " conv2_block1_1_relu (Activatio  (None, 64, 64, 64)  0           ['conv2_block1_1_bn[0][0]']      \n",
            " n)                                                                                               \n",
            "                                                                                                  \n",
            " conv2_block1_2_conv (Conv2D)   (None, 64, 64, 64)   36928       ['conv2_block1_1_relu[0][0]']    \n",
            "                                                                                                  \n",
            " conv2_block1_2_bn (BatchNormal  (None, 64, 64, 64)  256         ['conv2_block1_2_conv[0][0]']    \n",
            " ization)                                                                                         \n",
            "                                                                                                  \n",
            " conv2_block1_2_relu (Activatio  (None, 64, 64, 64)  0           ['conv2_block1_2_bn[0][0]']      \n",
            " n)                                                                                               \n",
            "                                                                                                  \n",
            " conv2_block1_0_conv (Conv2D)   (None, 64, 64, 256)  16640       ['pool1_pool[0][0]']             \n",
            "                                                                                                  \n",
            " conv2_block1_3_conv (Conv2D)   (None, 64, 64, 256)  16640       ['conv2_block1_2_relu[0][0]']    \n",
            "                                                                                                  \n",
            " conv2_block1_0_bn (BatchNormal  (None, 64, 64, 256)  1024       ['conv2_block1_0_conv[0][0]']    \n",
            " ization)                                                                                         \n",
            "                                                                                                  \n",
            " conv2_block1_3_bn (BatchNormal  (None, 64, 64, 256)  1024       ['conv2_block1_3_conv[0][0]']    \n",
            " ization)                                                                                         \n",
            "                                                                                                  \n",
            " conv2_block1_add (Add)         (None, 64, 64, 256)  0           ['conv2_block1_0_bn[0][0]',      \n",
            "                                                                  'conv2_block1_3_bn[0][0]']      \n",
            "                                                                                                  \n",
            " conv2_block1_out (Activation)  (None, 64, 64, 256)  0           ['conv2_block1_add[0][0]']       \n",
            "                                                                                                  \n",
            " conv2_block2_1_conv (Conv2D)   (None, 64, 64, 64)   16448       ['conv2_block1_out[0][0]']       \n",
            "                                                                                                  \n",
            " conv2_block2_1_bn (BatchNormal  (None, 64, 64, 64)  256         ['conv2_block2_1_conv[0][0]']    \n",
            " ization)                                                                                         \n",
            "                                                                                                  \n",
            " conv2_block2_1_relu (Activatio  (None, 64, 64, 64)  0           ['conv2_block2_1_bn[0][0]']      \n",
            " n)                                                                                               \n",
            "                                                                                                  \n",
            " conv2_block2_2_conv (Conv2D)   (None, 64, 64, 64)   36928       ['conv2_block2_1_relu[0][0]']    \n",
            "                                                                                                  \n",
            " conv2_block2_2_bn (BatchNormal  (None, 64, 64, 64)  256         ['conv2_block2_2_conv[0][0]']    \n",
            " ization)                                                                                         \n",
            "                                                                                                  \n",
            " conv2_block2_2_relu (Activatio  (None, 64, 64, 64)  0           ['conv2_block2_2_bn[0][0]']      \n",
            " n)                                                                                               \n",
            "                                                                                                  \n",
            " conv2_block2_3_conv (Conv2D)   (None, 64, 64, 256)  16640       ['conv2_block2_2_relu[0][0]']    \n",
            "                                                                                                  \n",
            " conv2_block2_3_bn (BatchNormal  (None, 64, 64, 256)  1024       ['conv2_block2_3_conv[0][0]']    \n",
            " ization)                                                                                         \n",
            "                                                                                                  \n",
            " conv2_block2_add (Add)         (None, 64, 64, 256)  0           ['conv2_block1_out[0][0]',       \n",
            "                                                                  'conv2_block2_3_bn[0][0]']      \n",
            "                                                                                                  \n",
            " conv2_block2_out (Activation)  (None, 64, 64, 256)  0           ['conv2_block2_add[0][0]']       \n",
            "                                                                                                  \n",
            " conv2_block3_1_conv (Conv2D)   (None, 64, 64, 64)   16448       ['conv2_block2_out[0][0]']       \n",
            "                                                                                                  \n",
            " conv2_block3_1_bn (BatchNormal  (None, 64, 64, 64)  256         ['conv2_block3_1_conv[0][0]']    \n",
            " ization)                                                                                         \n",
            "                                                                                                  \n",
            " conv2_block3_1_relu (Activatio  (None, 64, 64, 64)  0           ['conv2_block3_1_bn[0][0]']      \n",
            " n)                                                                                               \n",
            "                                                                                                  \n",
            " conv2_block3_2_conv (Conv2D)   (None, 64, 64, 64)   36928       ['conv2_block3_1_relu[0][0]']    \n",
            "                                                                                                  \n",
            " conv2_block3_2_bn (BatchNormal  (None, 64, 64, 64)  256         ['conv2_block3_2_conv[0][0]']    \n",
            " ization)                                                                                         \n",
            "                                                                                                  \n",
            " conv2_block3_2_relu (Activatio  (None, 64, 64, 64)  0           ['conv2_block3_2_bn[0][0]']      \n",
            " n)                                                                                               \n",
            "                                                                                                  \n",
            " conv2_block3_3_conv (Conv2D)   (None, 64, 64, 256)  16640       ['conv2_block3_2_relu[0][0]']    \n",
            "                                                                                                  \n",
            " conv2_block3_3_bn (BatchNormal  (None, 64, 64, 256)  1024       ['conv2_block3_3_conv[0][0]']    \n",
            " ization)                                                                                         \n",
            "                                                                                                  \n",
            " conv2_block3_add (Add)         (None, 64, 64, 256)  0           ['conv2_block2_out[0][0]',       \n",
            "                                                                  'conv2_block3_3_bn[0][0]']      \n",
            "                                                                                                  \n",
            " conv2_block3_out (Activation)  (None, 64, 64, 256)  0           ['conv2_block3_add[0][0]']       \n",
            "                                                                                                  \n",
            " conv3_block1_1_conv (Conv2D)   (None, 32, 32, 128)  32896       ['conv2_block3_out[0][0]']       \n",
            "                                                                                                  \n",
            " conv3_block1_1_bn (BatchNormal  (None, 32, 32, 128)  512        ['conv3_block1_1_conv[0][0]']    \n",
            " ization)                                                                                         \n",
            "                                                                                                  \n",
            " conv3_block1_1_relu (Activatio  (None, 32, 32, 128)  0          ['conv3_block1_1_bn[0][0]']      \n",
            " n)                                                                                               \n",
            "                                                                                                  \n",
            " conv3_block1_2_conv (Conv2D)   (None, 32, 32, 128)  147584      ['conv3_block1_1_relu[0][0]']    \n",
            "                                                                                                  \n",
            " conv3_block1_2_bn (BatchNormal  (None, 32, 32, 128)  512        ['conv3_block1_2_conv[0][0]']    \n",
            " ization)                                                                                         \n",
            "                                                                                                  \n",
            " conv3_block1_2_relu (Activatio  (None, 32, 32, 128)  0          ['conv3_block1_2_bn[0][0]']      \n",
            " n)                                                                                               \n",
            "                                                                                                  \n",
            " conv3_block1_0_conv (Conv2D)   (None, 32, 32, 512)  131584      ['conv2_block3_out[0][0]']       \n",
            "                                                                                                  \n",
            " conv3_block1_3_conv (Conv2D)   (None, 32, 32, 512)  66048       ['conv3_block1_2_relu[0][0]']    \n",
            "                                                                                                  \n",
            " conv3_block1_0_bn (BatchNormal  (None, 32, 32, 512)  2048       ['conv3_block1_0_conv[0][0]']    \n",
            " ization)                                                                                         \n",
            "                                                                                                  \n",
            " conv3_block1_3_bn (BatchNormal  (None, 32, 32, 512)  2048       ['conv3_block1_3_conv[0][0]']    \n",
            " ization)                                                                                         \n",
            "                                                                                                  \n",
            " conv3_block1_add (Add)         (None, 32, 32, 512)  0           ['conv3_block1_0_bn[0][0]',      \n",
            "                                                                  'conv3_block1_3_bn[0][0]']      \n",
            "                                                                                                  \n",
            " conv3_block1_out (Activation)  (None, 32, 32, 512)  0           ['conv3_block1_add[0][0]']       \n",
            "                                                                                                  \n",
            " conv3_block2_1_conv (Conv2D)   (None, 32, 32, 128)  65664       ['conv3_block1_out[0][0]']       \n",
            "                                                                                                  \n",
            " conv3_block2_1_bn (BatchNormal  (None, 32, 32, 128)  512        ['conv3_block2_1_conv[0][0]']    \n",
            " ization)                                                                                         \n",
            "                                                                                                  \n",
            " conv3_block2_1_relu (Activatio  (None, 32, 32, 128)  0          ['conv3_block2_1_bn[0][0]']      \n",
            " n)                                                                                               \n",
            "                                                                                                  \n",
            " conv3_block2_2_conv (Conv2D)   (None, 32, 32, 128)  147584      ['conv3_block2_1_relu[0][0]']    \n",
            "                                                                                                  \n",
            " conv3_block2_2_bn (BatchNormal  (None, 32, 32, 128)  512        ['conv3_block2_2_conv[0][0]']    \n",
            " ization)                                                                                         \n",
            "                                                                                                  \n",
            " conv3_block2_2_relu (Activatio  (None, 32, 32, 128)  0          ['conv3_block2_2_bn[0][0]']      \n",
            " n)                                                                                               \n",
            "                                                                                                  \n",
            " conv3_block2_3_conv (Conv2D)   (None, 32, 32, 512)  66048       ['conv3_block2_2_relu[0][0]']    \n",
            "                                                                                                  \n",
            " conv3_block2_3_bn (BatchNormal  (None, 32, 32, 512)  2048       ['conv3_block2_3_conv[0][0]']    \n",
            " ization)                                                                                         \n",
            "                                                                                                  \n",
            " conv3_block2_add (Add)         (None, 32, 32, 512)  0           ['conv3_block1_out[0][0]',       \n",
            "                                                                  'conv3_block2_3_bn[0][0]']      \n",
            "                                                                                                  \n",
            " conv3_block2_out (Activation)  (None, 32, 32, 512)  0           ['conv3_block2_add[0][0]']       \n",
            "                                                                                                  \n",
            " conv3_block3_1_conv (Conv2D)   (None, 32, 32, 128)  65664       ['conv3_block2_out[0][0]']       \n",
            "                                                                                                  \n",
            " conv3_block3_1_bn (BatchNormal  (None, 32, 32, 128)  512        ['conv3_block3_1_conv[0][0]']    \n",
            " ization)                                                                                         \n",
            "                                                                                                  \n",
            " conv3_block3_1_relu (Activatio  (None, 32, 32, 128)  0          ['conv3_block3_1_bn[0][0]']      \n",
            " n)                                                                                               \n",
            "                                                                                                  \n",
            " conv3_block3_2_conv (Conv2D)   (None, 32, 32, 128)  147584      ['conv3_block3_1_relu[0][0]']    \n",
            "                                                                                                  \n",
            " conv3_block3_2_bn (BatchNormal  (None, 32, 32, 128)  512        ['conv3_block3_2_conv[0][0]']    \n",
            " ization)                                                                                         \n",
            "                                                                                                  \n",
            " conv3_block3_2_relu (Activatio  (None, 32, 32, 128)  0          ['conv3_block3_2_bn[0][0]']      \n",
            " n)                                                                                               \n",
            "                                                                                                  \n",
            " conv3_block3_3_conv (Conv2D)   (None, 32, 32, 512)  66048       ['conv3_block3_2_relu[0][0]']    \n",
            "                                                                                                  \n",
            " conv3_block3_3_bn (BatchNormal  (None, 32, 32, 512)  2048       ['conv3_block3_3_conv[0][0]']    \n",
            " ization)                                                                                         \n",
            "                                                                                                  \n",
            " conv3_block3_add (Add)         (None, 32, 32, 512)  0           ['conv3_block2_out[0][0]',       \n",
            "                                                                  'conv3_block3_3_bn[0][0]']      \n",
            "                                                                                                  \n",
            " conv3_block3_out (Activation)  (None, 32, 32, 512)  0           ['conv3_block3_add[0][0]']       \n",
            "                                                                                                  \n",
            " conv3_block4_1_conv (Conv2D)   (None, 32, 32, 128)  65664       ['conv3_block3_out[0][0]']       \n",
            "                                                                                                  \n",
            " conv3_block4_1_bn (BatchNormal  (None, 32, 32, 128)  512        ['conv3_block4_1_conv[0][0]']    \n",
            " ization)                                                                                         \n",
            "                                                                                                  \n",
            " conv3_block4_1_relu (Activatio  (None, 32, 32, 128)  0          ['conv3_block4_1_bn[0][0]']      \n",
            " n)                                                                                               \n",
            "                                                                                                  \n",
            " conv3_block4_2_conv (Conv2D)   (None, 32, 32, 128)  147584      ['conv3_block4_1_relu[0][0]']    \n",
            "                                                                                                  \n",
            " conv3_block4_2_bn (BatchNormal  (None, 32, 32, 128)  512        ['conv3_block4_2_conv[0][0]']    \n",
            " ization)                                                                                         \n",
            "                                                                                                  \n",
            " conv3_block4_2_relu (Activatio  (None, 32, 32, 128)  0          ['conv3_block4_2_bn[0][0]']      \n",
            " n)                                                                                               \n",
            "                                                                                                  \n",
            " conv3_block4_3_conv (Conv2D)   (None, 32, 32, 512)  66048       ['conv3_block4_2_relu[0][0]']    \n",
            "                                                                                                  \n",
            " conv3_block4_3_bn (BatchNormal  (None, 32, 32, 512)  2048       ['conv3_block4_3_conv[0][0]']    \n",
            " ization)                                                                                         \n",
            "                                                                                                  \n",
            " conv3_block4_add (Add)         (None, 32, 32, 512)  0           ['conv3_block3_out[0][0]',       \n",
            "                                                                  'conv3_block4_3_bn[0][0]']      \n",
            "                                                                                                  \n",
            " conv3_block4_out (Activation)  (None, 32, 32, 512)  0           ['conv3_block4_add[0][0]']       \n",
            "                                                                                                  \n",
            " conv3_block5_1_conv (Conv2D)   (None, 32, 32, 128)  65664       ['conv3_block4_out[0][0]']       \n",
            "                                                                                                  \n",
            " conv3_block5_1_bn (BatchNormal  (None, 32, 32, 128)  512        ['conv3_block5_1_conv[0][0]']    \n",
            " ization)                                                                                         \n",
            "                                                                                                  \n",
            " conv3_block5_1_relu (Activatio  (None, 32, 32, 128)  0          ['conv3_block5_1_bn[0][0]']      \n",
            " n)                                                                                               \n",
            "                                                                                                  \n",
            " conv3_block5_2_conv (Conv2D)   (None, 32, 32, 128)  147584      ['conv3_block5_1_relu[0][0]']    \n",
            "                                                                                                  \n",
            " conv3_block5_2_bn (BatchNormal  (None, 32, 32, 128)  512        ['conv3_block5_2_conv[0][0]']    \n",
            " ization)                                                                                         \n",
            "                                                                                                  \n",
            " conv3_block5_2_relu (Activatio  (None, 32, 32, 128)  0          ['conv3_block5_2_bn[0][0]']      \n",
            " n)                                                                                               \n",
            "                                                                                                  \n",
            " conv3_block5_3_conv (Conv2D)   (None, 32, 32, 512)  66048       ['conv3_block5_2_relu[0][0]']    \n",
            "                                                                                                  \n",
            " conv3_block5_3_bn (BatchNormal  (None, 32, 32, 512)  2048       ['conv3_block5_3_conv[0][0]']    \n",
            " ization)                                                                                         \n",
            "                                                                                                  \n",
            " conv3_block5_add (Add)         (None, 32, 32, 512)  0           ['conv3_block4_out[0][0]',       \n",
            "                                                                  'conv3_block5_3_bn[0][0]']      \n",
            "                                                                                                  \n",
            " conv3_block5_out (Activation)  (None, 32, 32, 512)  0           ['conv3_block5_add[0][0]']       \n",
            "                                                                                                  \n",
            " conv3_block6_1_conv (Conv2D)   (None, 32, 32, 128)  65664       ['conv3_block5_out[0][0]']       \n",
            "                                                                                                  \n",
            " conv3_block6_1_bn (BatchNormal  (None, 32, 32, 128)  512        ['conv3_block6_1_conv[0][0]']    \n",
            " ization)                                                                                         \n",
            "                                                                                                  \n",
            " conv3_block6_1_relu (Activatio  (None, 32, 32, 128)  0          ['conv3_block6_1_bn[0][0]']      \n",
            " n)                                                                                               \n",
            "                                                                                                  \n",
            " conv3_block6_2_conv (Conv2D)   (None, 32, 32, 128)  147584      ['conv3_block6_1_relu[0][0]']    \n",
            "                                                                                                  \n",
            " conv3_block6_2_bn (BatchNormal  (None, 32, 32, 128)  512        ['conv3_block6_2_conv[0][0]']    \n",
            " ization)                                                                                         \n",
            "                                                                                                  \n",
            " conv3_block6_2_relu (Activatio  (None, 32, 32, 128)  0          ['conv3_block6_2_bn[0][0]']      \n",
            " n)                                                                                               \n",
            "                                                                                                  \n",
            " conv3_block6_3_conv (Conv2D)   (None, 32, 32, 512)  66048       ['conv3_block6_2_relu[0][0]']    \n",
            "                                                                                                  \n",
            " conv3_block6_3_bn (BatchNormal  (None, 32, 32, 512)  2048       ['conv3_block6_3_conv[0][0]']    \n",
            " ization)                                                                                         \n",
            "                                                                                                  \n",
            " conv3_block6_add (Add)         (None, 32, 32, 512)  0           ['conv3_block5_out[0][0]',       \n",
            "                                                                  'conv3_block6_3_bn[0][0]']      \n",
            "                                                                                                  \n",
            " conv3_block6_out (Activation)  (None, 32, 32, 512)  0           ['conv3_block6_add[0][0]']       \n",
            "                                                                                                  \n",
            " conv3_block7_1_conv (Conv2D)   (None, 32, 32, 128)  65664       ['conv3_block6_out[0][0]']       \n",
            "                                                                                                  \n",
            " conv3_block7_1_bn (BatchNormal  (None, 32, 32, 128)  512        ['conv3_block7_1_conv[0][0]']    \n",
            " ization)                                                                                         \n",
            "                                                                                                  \n",
            " conv3_block7_1_relu (Activatio  (None, 32, 32, 128)  0          ['conv3_block7_1_bn[0][0]']      \n",
            " n)                                                                                               \n",
            "                                                                                                  \n",
            " conv3_block7_2_conv (Conv2D)   (None, 32, 32, 128)  147584      ['conv3_block7_1_relu[0][0]']    \n",
            "                                                                                                  \n",
            " conv3_block7_2_bn (BatchNormal  (None, 32, 32, 128)  512        ['conv3_block7_2_conv[0][0]']    \n",
            " ization)                                                                                         \n",
            "                                                                                                  \n",
            " conv3_block7_2_relu (Activatio  (None, 32, 32, 128)  0          ['conv3_block7_2_bn[0][0]']      \n",
            " n)                                                                                               \n",
            "                                                                                                  \n",
            " conv3_block7_3_conv (Conv2D)   (None, 32, 32, 512)  66048       ['conv3_block7_2_relu[0][0]']    \n",
            "                                                                                                  \n",
            " conv3_block7_3_bn (BatchNormal  (None, 32, 32, 512)  2048       ['conv3_block7_3_conv[0][0]']    \n",
            " ization)                                                                                         \n",
            "                                                                                                  \n",
            " conv3_block7_add (Add)         (None, 32, 32, 512)  0           ['conv3_block6_out[0][0]',       \n",
            "                                                                  'conv3_block7_3_bn[0][0]']      \n",
            "                                                                                                  \n",
            " conv3_block7_out (Activation)  (None, 32, 32, 512)  0           ['conv3_block7_add[0][0]']       \n",
            "                                                                                                  \n",
            " conv3_block8_1_conv (Conv2D)   (None, 32, 32, 128)  65664       ['conv3_block7_out[0][0]']       \n",
            "                                                                                                  \n",
            " conv3_block8_1_bn (BatchNormal  (None, 32, 32, 128)  512        ['conv3_block8_1_conv[0][0]']    \n",
            " ization)                                                                                         \n",
            "                                                                                                  \n",
            " conv3_block8_1_relu (Activatio  (None, 32, 32, 128)  0          ['conv3_block8_1_bn[0][0]']      \n",
            " n)                                                                                               \n",
            "                                                                                                  \n",
            " conv3_block8_2_conv (Conv2D)   (None, 32, 32, 128)  147584      ['conv3_block8_1_relu[0][0]']    \n",
            "                                                                                                  \n",
            " conv3_block8_2_bn (BatchNormal  (None, 32, 32, 128)  512        ['conv3_block8_2_conv[0][0]']    \n",
            " ization)                                                                                         \n",
            "                                                                                                  \n",
            " conv3_block8_2_relu (Activatio  (None, 32, 32, 128)  0          ['conv3_block8_2_bn[0][0]']      \n",
            " n)                                                                                               \n",
            "                                                                                                  \n",
            " conv3_block8_3_conv (Conv2D)   (None, 32, 32, 512)  66048       ['conv3_block8_2_relu[0][0]']    \n",
            "                                                                                                  \n",
            " conv3_block8_3_bn (BatchNormal  (None, 32, 32, 512)  2048       ['conv3_block8_3_conv[0][0]']    \n",
            " ization)                                                                                         \n",
            "                                                                                                  \n",
            " conv3_block8_add (Add)         (None, 32, 32, 512)  0           ['conv3_block7_out[0][0]',       \n",
            "                                                                  'conv3_block8_3_bn[0][0]']      \n",
            "                                                                                                  \n",
            " conv3_block8_out (Activation)  (None, 32, 32, 512)  0           ['conv3_block8_add[0][0]']       \n",
            "                                                                                                  \n",
            " conv4_block1_1_conv (Conv2D)   (None, 16, 16, 256)  131328      ['conv3_block8_out[0][0]']       \n",
            "                                                                                                  \n",
            " conv4_block1_1_bn (BatchNormal  (None, 16, 16, 256)  1024       ['conv4_block1_1_conv[0][0]']    \n",
            " ization)                                                                                         \n",
            "                                                                                                  \n",
            " conv4_block1_1_relu (Activatio  (None, 16, 16, 256)  0          ['conv4_block1_1_bn[0][0]']      \n",
            " n)                                                                                               \n",
            "                                                                                                  \n",
            " conv4_block1_2_conv (Conv2D)   (None, 16, 16, 256)  590080      ['conv4_block1_1_relu[0][0]']    \n",
            "                                                                                                  \n",
            " conv4_block1_2_bn (BatchNormal  (None, 16, 16, 256)  1024       ['conv4_block1_2_conv[0][0]']    \n",
            " ization)                                                                                         \n",
            "                                                                                                  \n",
            " conv4_block1_2_relu (Activatio  (None, 16, 16, 256)  0          ['conv4_block1_2_bn[0][0]']      \n",
            " n)                                                                                               \n",
            "                                                                                                  \n",
            " conv4_block1_0_conv (Conv2D)   (None, 16, 16, 1024  525312      ['conv3_block8_out[0][0]']       \n",
            "                                )                                                                 \n",
            "                                                                                                  \n",
            " conv4_block1_3_conv (Conv2D)   (None, 16, 16, 1024  263168      ['conv4_block1_2_relu[0][0]']    \n",
            "                                )                                                                 \n",
            "                                                                                                  \n",
            " conv4_block1_0_bn (BatchNormal  (None, 16, 16, 1024  4096       ['conv4_block1_0_conv[0][0]']    \n",
            " ization)                       )                                                                 \n",
            "                                                                                                  \n",
            " conv4_block1_3_bn (BatchNormal  (None, 16, 16, 1024  4096       ['conv4_block1_3_conv[0][0]']    \n",
            " ization)                       )                                                                 \n",
            "                                                                                                  \n",
            " conv4_block1_add (Add)         (None, 16, 16, 1024  0           ['conv4_block1_0_bn[0][0]',      \n",
            "                                )                                 'conv4_block1_3_bn[0][0]']      \n",
            "                                                                                                  \n",
            " conv4_block1_out (Activation)  (None, 16, 16, 1024  0           ['conv4_block1_add[0][0]']       \n",
            "                                )                                                                 \n",
            "                                                                                                  \n",
            " conv4_block2_1_conv (Conv2D)   (None, 16, 16, 256)  262400      ['conv4_block1_out[0][0]']       \n",
            "                                                                                                  \n",
            " conv4_block2_1_bn (BatchNormal  (None, 16, 16, 256)  1024       ['conv4_block2_1_conv[0][0]']    \n",
            " ization)                                                                                         \n",
            "                                                                                                  \n",
            " conv4_block2_1_relu (Activatio  (None, 16, 16, 256)  0          ['conv4_block2_1_bn[0][0]']      \n",
            " n)                                                                                               \n",
            "                                                                                                  \n",
            " conv4_block2_2_conv (Conv2D)   (None, 16, 16, 256)  590080      ['conv4_block2_1_relu[0][0]']    \n",
            "                                                                                                  \n",
            " conv4_block2_2_bn (BatchNormal  (None, 16, 16, 256)  1024       ['conv4_block2_2_conv[0][0]']    \n",
            " ization)                                                                                         \n",
            "                                                                                                  \n",
            " conv4_block2_2_relu (Activatio  (None, 16, 16, 256)  0          ['conv4_block2_2_bn[0][0]']      \n",
            " n)                                                                                               \n",
            "                                                                                                  \n",
            " conv4_block2_3_conv (Conv2D)   (None, 16, 16, 1024  263168      ['conv4_block2_2_relu[0][0]']    \n",
            "                                )                                                                 \n",
            "                                                                                                  \n",
            " conv4_block2_3_bn (BatchNormal  (None, 16, 16, 1024  4096       ['conv4_block2_3_conv[0][0]']    \n",
            " ization)                       )                                                                 \n",
            "                                                                                                  \n",
            " conv4_block2_add (Add)         (None, 16, 16, 1024  0           ['conv4_block1_out[0][0]',       \n",
            "                                )                                 'conv4_block2_3_bn[0][0]']      \n",
            "                                                                                                  \n",
            " conv4_block2_out (Activation)  (None, 16, 16, 1024  0           ['conv4_block2_add[0][0]']       \n",
            "                                )                                                                 \n",
            "                                                                                                  \n",
            " conv4_block3_1_conv (Conv2D)   (None, 16, 16, 256)  262400      ['conv4_block2_out[0][0]']       \n",
            "                                                                                                  \n",
            " conv4_block3_1_bn (BatchNormal  (None, 16, 16, 256)  1024       ['conv4_block3_1_conv[0][0]']    \n",
            " ization)                                                                                         \n",
            "                                                                                                  \n",
            " conv4_block3_1_relu (Activatio  (None, 16, 16, 256)  0          ['conv4_block3_1_bn[0][0]']      \n",
            " n)                                                                                               \n",
            "                                                                                                  \n",
            " conv4_block3_2_conv (Conv2D)   (None, 16, 16, 256)  590080      ['conv4_block3_1_relu[0][0]']    \n",
            "                                                                                                  \n",
            " conv4_block3_2_bn (BatchNormal  (None, 16, 16, 256)  1024       ['conv4_block3_2_conv[0][0]']    \n",
            " ization)                                                                                         \n",
            "                                                                                                  \n",
            " conv4_block3_2_relu (Activatio  (None, 16, 16, 256)  0          ['conv4_block3_2_bn[0][0]']      \n",
            " n)                                                                                               \n",
            "                                                                                                  \n",
            " conv4_block3_3_conv (Conv2D)   (None, 16, 16, 1024  263168      ['conv4_block3_2_relu[0][0]']    \n",
            "                                )                                                                 \n",
            "                                                                                                  \n",
            " conv4_block3_3_bn (BatchNormal  (None, 16, 16, 1024  4096       ['conv4_block3_3_conv[0][0]']    \n",
            " ization)                       )                                                                 \n",
            "                                                                                                  \n",
            " conv4_block3_add (Add)         (None, 16, 16, 1024  0           ['conv4_block2_out[0][0]',       \n",
            "                                )                                 'conv4_block3_3_bn[0][0]']      \n",
            "                                                                                                  \n",
            " conv4_block3_out (Activation)  (None, 16, 16, 1024  0           ['conv4_block3_add[0][0]']       \n",
            "                                )                                                                 \n",
            "                                                                                                  \n",
            " conv4_block4_1_conv (Conv2D)   (None, 16, 16, 256)  262400      ['conv4_block3_out[0][0]']       \n",
            "                                                                                                  \n",
            " conv4_block4_1_bn (BatchNormal  (None, 16, 16, 256)  1024       ['conv4_block4_1_conv[0][0]']    \n",
            " ization)                                                                                         \n",
            "                                                                                                  \n",
            " conv4_block4_1_relu (Activatio  (None, 16, 16, 256)  0          ['conv4_block4_1_bn[0][0]']      \n",
            " n)                                                                                               \n",
            "                                                                                                  \n",
            " conv4_block4_2_conv (Conv2D)   (None, 16, 16, 256)  590080      ['conv4_block4_1_relu[0][0]']    \n",
            "                                                                                                  \n",
            " conv4_block4_2_bn (BatchNormal  (None, 16, 16, 256)  1024       ['conv4_block4_2_conv[0][0]']    \n",
            " ization)                                                                                         \n",
            "                                                                                                  \n",
            " conv4_block4_2_relu (Activatio  (None, 16, 16, 256)  0          ['conv4_block4_2_bn[0][0]']      \n",
            " n)                                                                                               \n",
            "                                                                                                  \n",
            " conv4_block4_3_conv (Conv2D)   (None, 16, 16, 1024  263168      ['conv4_block4_2_relu[0][0]']    \n",
            "                                )                                                                 \n",
            "                                                                                                  \n",
            " conv4_block4_3_bn (BatchNormal  (None, 16, 16, 1024  4096       ['conv4_block4_3_conv[0][0]']    \n",
            " ization)                       )                                                                 \n",
            "                                                                                                  \n",
            " conv4_block4_add (Add)         (None, 16, 16, 1024  0           ['conv4_block3_out[0][0]',       \n",
            "                                )                                 'conv4_block4_3_bn[0][0]']      \n",
            "                                                                                                  \n",
            " conv4_block4_out (Activation)  (None, 16, 16, 1024  0           ['conv4_block4_add[0][0]']       \n",
            "                                )                                                                 \n",
            "                                                                                                  \n",
            " conv4_block5_1_conv (Conv2D)   (None, 16, 16, 256)  262400      ['conv4_block4_out[0][0]']       \n",
            "                                                                                                  \n",
            " conv4_block5_1_bn (BatchNormal  (None, 16, 16, 256)  1024       ['conv4_block5_1_conv[0][0]']    \n",
            " ization)                                                                                         \n",
            "                                                                                                  \n",
            " conv4_block5_1_relu (Activatio  (None, 16, 16, 256)  0          ['conv4_block5_1_bn[0][0]']      \n",
            " n)                                                                                               \n",
            "                                                                                                  \n",
            " conv4_block5_2_conv (Conv2D)   (None, 16, 16, 256)  590080      ['conv4_block5_1_relu[0][0]']    \n",
            "                                                                                                  \n",
            " conv4_block5_2_bn (BatchNormal  (None, 16, 16, 256)  1024       ['conv4_block5_2_conv[0][0]']    \n",
            " ization)                                                                                         \n",
            "                                                                                                  \n",
            " conv4_block5_2_relu (Activatio  (None, 16, 16, 256)  0          ['conv4_block5_2_bn[0][0]']      \n",
            " n)                                                                                               \n",
            "                                                                                                  \n",
            " conv4_block5_3_conv (Conv2D)   (None, 16, 16, 1024  263168      ['conv4_block5_2_relu[0][0]']    \n",
            "                                )                                                                 \n",
            "                                                                                                  \n",
            " conv4_block5_3_bn (BatchNormal  (None, 16, 16, 1024  4096       ['conv4_block5_3_conv[0][0]']    \n",
            " ization)                       )                                                                 \n",
            "                                                                                                  \n",
            " conv4_block5_add (Add)         (None, 16, 16, 1024  0           ['conv4_block4_out[0][0]',       \n",
            "                                )                                 'conv4_block5_3_bn[0][0]']      \n",
            "                                                                                                  \n",
            " conv4_block5_out (Activation)  (None, 16, 16, 1024  0           ['conv4_block5_add[0][0]']       \n",
            "                                )                                                                 \n",
            "                                                                                                  \n",
            " conv4_block6_1_conv (Conv2D)   (None, 16, 16, 256)  262400      ['conv4_block5_out[0][0]']       \n",
            "                                                                                                  \n",
            " conv4_block6_1_bn (BatchNormal  (None, 16, 16, 256)  1024       ['conv4_block6_1_conv[0][0]']    \n",
            " ization)                                                                                         \n",
            "                                                                                                  \n",
            " conv4_block6_1_relu (Activatio  (None, 16, 16, 256)  0          ['conv4_block6_1_bn[0][0]']      \n",
            " n)                                                                                               \n",
            "                                                                                                  \n",
            " conv4_block6_2_conv (Conv2D)   (None, 16, 16, 256)  590080      ['conv4_block6_1_relu[0][0]']    \n",
            "                                                                                                  \n",
            " conv4_block6_2_bn (BatchNormal  (None, 16, 16, 256)  1024       ['conv4_block6_2_conv[0][0]']    \n",
            " ization)                                                                                         \n",
            "                                                                                                  \n",
            " conv4_block6_2_relu (Activatio  (None, 16, 16, 256)  0          ['conv4_block6_2_bn[0][0]']      \n",
            " n)                                                                                               \n",
            "                                                                                                  \n",
            " conv4_block6_3_conv (Conv2D)   (None, 16, 16, 1024  263168      ['conv4_block6_2_relu[0][0]']    \n",
            "                                )                                                                 \n",
            "                                                                                                  \n",
            " conv4_block6_3_bn (BatchNormal  (None, 16, 16, 1024  4096       ['conv4_block6_3_conv[0][0]']    \n",
            " ization)                       )                                                                 \n",
            "                                                                                                  \n",
            " conv4_block6_add (Add)         (None, 16, 16, 1024  0           ['conv4_block5_out[0][0]',       \n",
            "                                )                                 'conv4_block6_3_bn[0][0]']      \n",
            "                                                                                                  \n",
            " conv4_block6_out (Activation)  (None, 16, 16, 1024  0           ['conv4_block6_add[0][0]']       \n",
            "                                )                                                                 \n",
            "                                                                                                  \n",
            " conv4_block7_1_conv (Conv2D)   (None, 16, 16, 256)  262400      ['conv4_block6_out[0][0]']       \n",
            "                                                                                                  \n",
            " conv4_block7_1_bn (BatchNormal  (None, 16, 16, 256)  1024       ['conv4_block7_1_conv[0][0]']    \n",
            " ization)                                                                                         \n",
            "                                                                                                  \n",
            " conv4_block7_1_relu (Activatio  (None, 16, 16, 256)  0          ['conv4_block7_1_bn[0][0]']      \n",
            " n)                                                                                               \n",
            "                                                                                                  \n",
            " conv4_block7_2_conv (Conv2D)   (None, 16, 16, 256)  590080      ['conv4_block7_1_relu[0][0]']    \n",
            "                                                                                                  \n",
            " conv4_block7_2_bn (BatchNormal  (None, 16, 16, 256)  1024       ['conv4_block7_2_conv[0][0]']    \n",
            " ization)                                                                                         \n",
            "                                                                                                  \n",
            " conv4_block7_2_relu (Activatio  (None, 16, 16, 256)  0          ['conv4_block7_2_bn[0][0]']      \n",
            " n)                                                                                               \n",
            "                                                                                                  \n",
            " conv4_block7_3_conv (Conv2D)   (None, 16, 16, 1024  263168      ['conv4_block7_2_relu[0][0]']    \n",
            "                                )                                                                 \n",
            "                                                                                                  \n",
            " conv4_block7_3_bn (BatchNormal  (None, 16, 16, 1024  4096       ['conv4_block7_3_conv[0][0]']    \n",
            " ization)                       )                                                                 \n",
            "                                                                                                  \n",
            " conv4_block7_add (Add)         (None, 16, 16, 1024  0           ['conv4_block6_out[0][0]',       \n",
            "                                )                                 'conv4_block7_3_bn[0][0]']      \n",
            "                                                                                                  \n",
            " conv4_block7_out (Activation)  (None, 16, 16, 1024  0           ['conv4_block7_add[0][0]']       \n",
            "                                )                                                                 \n",
            "                                                                                                  \n",
            " conv4_block8_1_conv (Conv2D)   (None, 16, 16, 256)  262400      ['conv4_block7_out[0][0]']       \n",
            "                                                                                                  \n",
            " conv4_block8_1_bn (BatchNormal  (None, 16, 16, 256)  1024       ['conv4_block8_1_conv[0][0]']    \n",
            " ization)                                                                                         \n",
            "                                                                                                  \n",
            " conv4_block8_1_relu (Activatio  (None, 16, 16, 256)  0          ['conv4_block8_1_bn[0][0]']      \n",
            " n)                                                                                               \n",
            "                                                                                                  \n",
            " conv4_block8_2_conv (Conv2D)   (None, 16, 16, 256)  590080      ['conv4_block8_1_relu[0][0]']    \n",
            "                                                                                                  \n",
            " conv4_block8_2_bn (BatchNormal  (None, 16, 16, 256)  1024       ['conv4_block8_2_conv[0][0]']    \n",
            " ization)                                                                                         \n",
            "                                                                                                  \n",
            " conv4_block8_2_relu (Activatio  (None, 16, 16, 256)  0          ['conv4_block8_2_bn[0][0]']      \n",
            " n)                                                                                               \n",
            "                                                                                                  \n",
            " conv4_block8_3_conv (Conv2D)   (None, 16, 16, 1024  263168      ['conv4_block8_2_relu[0][0]']    \n",
            "                                )                                                                 \n",
            "                                                                                                  \n",
            " conv4_block8_3_bn (BatchNormal  (None, 16, 16, 1024  4096       ['conv4_block8_3_conv[0][0]']    \n",
            " ization)                       )                                                                 \n",
            "                                                                                                  \n",
            " conv4_block8_add (Add)         (None, 16, 16, 1024  0           ['conv4_block7_out[0][0]',       \n",
            "                                )                                 'conv4_block8_3_bn[0][0]']      \n",
            "                                                                                                  \n",
            " conv4_block8_out (Activation)  (None, 16, 16, 1024  0           ['conv4_block8_add[0][0]']       \n",
            "                                )                                                                 \n",
            "                                                                                                  \n",
            " conv4_block9_1_conv (Conv2D)   (None, 16, 16, 256)  262400      ['conv4_block8_out[0][0]']       \n",
            "                                                                                                  \n",
            " conv4_block9_1_bn (BatchNormal  (None, 16, 16, 256)  1024       ['conv4_block9_1_conv[0][0]']    \n",
            " ization)                                                                                         \n",
            "                                                                                                  \n",
            " conv4_block9_1_relu (Activatio  (None, 16, 16, 256)  0          ['conv4_block9_1_bn[0][0]']      \n",
            " n)                                                                                               \n",
            "                                                                                                  \n",
            " conv4_block9_2_conv (Conv2D)   (None, 16, 16, 256)  590080      ['conv4_block9_1_relu[0][0]']    \n",
            "                                                                                                  \n",
            " conv4_block9_2_bn (BatchNormal  (None, 16, 16, 256)  1024       ['conv4_block9_2_conv[0][0]']    \n",
            " ization)                                                                                         \n",
            "                                                                                                  \n",
            " conv4_block9_2_relu (Activatio  (None, 16, 16, 256)  0          ['conv4_block9_2_bn[0][0]']      \n",
            " n)                                                                                               \n",
            "                                                                                                  \n",
            " conv4_block9_3_conv (Conv2D)   (None, 16, 16, 1024  263168      ['conv4_block9_2_relu[0][0]']    \n",
            "                                )                                                                 \n",
            "                                                                                                  \n",
            " conv4_block9_3_bn (BatchNormal  (None, 16, 16, 1024  4096       ['conv4_block9_3_conv[0][0]']    \n",
            " ization)                       )                                                                 \n",
            "                                                                                                  \n",
            " conv4_block9_add (Add)         (None, 16, 16, 1024  0           ['conv4_block8_out[0][0]',       \n",
            "                                )                                 'conv4_block9_3_bn[0][0]']      \n",
            "                                                                                                  \n",
            " conv4_block9_out (Activation)  (None, 16, 16, 1024  0           ['conv4_block9_add[0][0]']       \n",
            "                                )                                                                 \n",
            "                                                                                                  \n",
            " conv4_block10_1_conv (Conv2D)  (None, 16, 16, 256)  262400      ['conv4_block9_out[0][0]']       \n",
            "                                                                                                  \n",
            " conv4_block10_1_bn (BatchNorma  (None, 16, 16, 256)  1024       ['conv4_block10_1_conv[0][0]']   \n",
            " lization)                                                                                        \n",
            "                                                                                                  \n",
            " conv4_block10_1_relu (Activati  (None, 16, 16, 256)  0          ['conv4_block10_1_bn[0][0]']     \n",
            " on)                                                                                              \n",
            "                                                                                                  \n",
            " conv4_block10_2_conv (Conv2D)  (None, 16, 16, 256)  590080      ['conv4_block10_1_relu[0][0]']   \n",
            "                                                                                                  \n",
            " conv4_block10_2_bn (BatchNorma  (None, 16, 16, 256)  1024       ['conv4_block10_2_conv[0][0]']   \n",
            " lization)                                                                                        \n",
            "                                                                                                  \n",
            " conv4_block10_2_relu (Activati  (None, 16, 16, 256)  0          ['conv4_block10_2_bn[0][0]']     \n",
            " on)                                                                                              \n",
            "                                                                                                  \n",
            " conv4_block10_3_conv (Conv2D)  (None, 16, 16, 1024  263168      ['conv4_block10_2_relu[0][0]']   \n",
            "                                )                                                                 \n",
            "                                                                                                  \n",
            " conv4_block10_3_bn (BatchNorma  (None, 16, 16, 1024  4096       ['conv4_block10_3_conv[0][0]']   \n",
            " lization)                      )                                                                 \n",
            "                                                                                                  \n",
            " conv4_block10_add (Add)        (None, 16, 16, 1024  0           ['conv4_block9_out[0][0]',       \n",
            "                                )                                 'conv4_block10_3_bn[0][0]']     \n",
            "                                                                                                  \n",
            " conv4_block10_out (Activation)  (None, 16, 16, 1024  0          ['conv4_block10_add[0][0]']      \n",
            "                                )                                                                 \n",
            "                                                                                                  \n",
            " conv4_block11_1_conv (Conv2D)  (None, 16, 16, 256)  262400      ['conv4_block10_out[0][0]']      \n",
            "                                                                                                  \n",
            " conv4_block11_1_bn (BatchNorma  (None, 16, 16, 256)  1024       ['conv4_block11_1_conv[0][0]']   \n",
            " lization)                                                                                        \n",
            "                                                                                                  \n",
            " conv4_block11_1_relu (Activati  (None, 16, 16, 256)  0          ['conv4_block11_1_bn[0][0]']     \n",
            " on)                                                                                              \n",
            "                                                                                                  \n",
            " conv4_block11_2_conv (Conv2D)  (None, 16, 16, 256)  590080      ['conv4_block11_1_relu[0][0]']   \n",
            "                                                                                                  \n",
            " conv4_block11_2_bn (BatchNorma  (None, 16, 16, 256)  1024       ['conv4_block11_2_conv[0][0]']   \n",
            " lization)                                                                                        \n",
            "                                                                                                  \n",
            " conv4_block11_2_relu (Activati  (None, 16, 16, 256)  0          ['conv4_block11_2_bn[0][0]']     \n",
            " on)                                                                                              \n",
            "                                                                                                  \n",
            " conv4_block11_3_conv (Conv2D)  (None, 16, 16, 1024  263168      ['conv4_block11_2_relu[0][0]']   \n",
            "                                )                                                                 \n",
            "                                                                                                  \n",
            " conv4_block11_3_bn (BatchNorma  (None, 16, 16, 1024  4096       ['conv4_block11_3_conv[0][0]']   \n",
            " lization)                      )                                                                 \n",
            "                                                                                                  \n",
            " conv4_block11_add (Add)        (None, 16, 16, 1024  0           ['conv4_block10_out[0][0]',      \n",
            "                                )                                 'conv4_block11_3_bn[0][0]']     \n",
            "                                                                                                  \n",
            " conv4_block11_out (Activation)  (None, 16, 16, 1024  0          ['conv4_block11_add[0][0]']      \n",
            "                                )                                                                 \n",
            "                                                                                                  \n",
            " conv4_block12_1_conv (Conv2D)  (None, 16, 16, 256)  262400      ['conv4_block11_out[0][0]']      \n",
            "                                                                                                  \n",
            " conv4_block12_1_bn (BatchNorma  (None, 16, 16, 256)  1024       ['conv4_block12_1_conv[0][0]']   \n",
            " lization)                                                                                        \n",
            "                                                                                                  \n",
            " conv4_block12_1_relu (Activati  (None, 16, 16, 256)  0          ['conv4_block12_1_bn[0][0]']     \n",
            " on)                                                                                              \n",
            "                                                                                                  \n",
            " conv4_block12_2_conv (Conv2D)  (None, 16, 16, 256)  590080      ['conv4_block12_1_relu[0][0]']   \n",
            "                                                                                                  \n",
            " conv4_block12_2_bn (BatchNorma  (None, 16, 16, 256)  1024       ['conv4_block12_2_conv[0][0]']   \n",
            " lization)                                                                                        \n",
            "                                                                                                  \n",
            " conv4_block12_2_relu (Activati  (None, 16, 16, 256)  0          ['conv4_block12_2_bn[0][0]']     \n",
            " on)                                                                                              \n",
            "                                                                                                  \n",
            " conv4_block12_3_conv (Conv2D)  (None, 16, 16, 1024  263168      ['conv4_block12_2_relu[0][0]']   \n",
            "                                )                                                                 \n",
            "                                                                                                  \n",
            " conv4_block12_3_bn (BatchNorma  (None, 16, 16, 1024  4096       ['conv4_block12_3_conv[0][0]']   \n",
            " lization)                      )                                                                 \n",
            "                                                                                                  \n",
            " conv4_block12_add (Add)        (None, 16, 16, 1024  0           ['conv4_block11_out[0][0]',      \n",
            "                                )                                 'conv4_block12_3_bn[0][0]']     \n",
            "                                                                                                  \n",
            " conv4_block12_out (Activation)  (None, 16, 16, 1024  0          ['conv4_block12_add[0][0]']      \n",
            "                                )                                                                 \n",
            "                                                                                                  \n",
            " conv4_block13_1_conv (Conv2D)  (None, 16, 16, 256)  262400      ['conv4_block12_out[0][0]']      \n",
            "                                                                                                  \n",
            " conv4_block13_1_bn (BatchNorma  (None, 16, 16, 256)  1024       ['conv4_block13_1_conv[0][0]']   \n",
            " lization)                                                                                        \n",
            "                                                                                                  \n",
            " conv4_block13_1_relu (Activati  (None, 16, 16, 256)  0          ['conv4_block13_1_bn[0][0]']     \n",
            " on)                                                                                              \n",
            "                                                                                                  \n",
            " conv4_block13_2_conv (Conv2D)  (None, 16, 16, 256)  590080      ['conv4_block13_1_relu[0][0]']   \n",
            "                                                                                                  \n",
            " conv4_block13_2_bn (BatchNorma  (None, 16, 16, 256)  1024       ['conv4_block13_2_conv[0][0]']   \n",
            " lization)                                                                                        \n",
            "                                                                                                  \n",
            " conv4_block13_2_relu (Activati  (None, 16, 16, 256)  0          ['conv4_block13_2_bn[0][0]']     \n",
            " on)                                                                                              \n",
            "                                                                                                  \n",
            " conv4_block13_3_conv (Conv2D)  (None, 16, 16, 1024  263168      ['conv4_block13_2_relu[0][0]']   \n",
            "                                )                                                                 \n",
            "                                                                                                  \n",
            " conv4_block13_3_bn (BatchNorma  (None, 16, 16, 1024  4096       ['conv4_block13_3_conv[0][0]']   \n",
            " lization)                      )                                                                 \n",
            "                                                                                                  \n",
            " conv4_block13_add (Add)        (None, 16, 16, 1024  0           ['conv4_block12_out[0][0]',      \n",
            "                                )                                 'conv4_block13_3_bn[0][0]']     \n",
            "                                                                                                  \n",
            " conv4_block13_out (Activation)  (None, 16, 16, 1024  0          ['conv4_block13_add[0][0]']      \n",
            "                                )                                                                 \n",
            "                                                                                                  \n",
            " conv4_block14_1_conv (Conv2D)  (None, 16, 16, 256)  262400      ['conv4_block13_out[0][0]']      \n",
            "                                                                                                  \n",
            " conv4_block14_1_bn (BatchNorma  (None, 16, 16, 256)  1024       ['conv4_block14_1_conv[0][0]']   \n",
            " lization)                                                                                        \n",
            "                                                                                                  \n",
            " conv4_block14_1_relu (Activati  (None, 16, 16, 256)  0          ['conv4_block14_1_bn[0][0]']     \n",
            " on)                                                                                              \n",
            "                                                                                                  \n",
            " conv4_block14_2_conv (Conv2D)  (None, 16, 16, 256)  590080      ['conv4_block14_1_relu[0][0]']   \n",
            "                                                                                                  \n",
            " conv4_block14_2_bn (BatchNorma  (None, 16, 16, 256)  1024       ['conv4_block14_2_conv[0][0]']   \n",
            " lization)                                                                                        \n",
            "                                                                                                  \n",
            " conv4_block14_2_relu (Activati  (None, 16, 16, 256)  0          ['conv4_block14_2_bn[0][0]']     \n",
            " on)                                                                                              \n",
            "                                                                                                  \n",
            " conv4_block14_3_conv (Conv2D)  (None, 16, 16, 1024  263168      ['conv4_block14_2_relu[0][0]']   \n",
            "                                )                                                                 \n",
            "                                                                                                  \n",
            " conv4_block14_3_bn (BatchNorma  (None, 16, 16, 1024  4096       ['conv4_block14_3_conv[0][0]']   \n",
            " lization)                      )                                                                 \n",
            "                                                                                                  \n",
            " conv4_block14_add (Add)        (None, 16, 16, 1024  0           ['conv4_block13_out[0][0]',      \n",
            "                                )                                 'conv4_block14_3_bn[0][0]']     \n",
            "                                                                                                  \n",
            " conv4_block14_out (Activation)  (None, 16, 16, 1024  0          ['conv4_block14_add[0][0]']      \n",
            "                                )                                                                 \n",
            "                                                                                                  \n",
            " conv4_block15_1_conv (Conv2D)  (None, 16, 16, 256)  262400      ['conv4_block14_out[0][0]']      \n",
            "                                                                                                  \n",
            " conv4_block15_1_bn (BatchNorma  (None, 16, 16, 256)  1024       ['conv4_block15_1_conv[0][0]']   \n",
            " lization)                                                                                        \n",
            "                                                                                                  \n",
            " conv4_block15_1_relu (Activati  (None, 16, 16, 256)  0          ['conv4_block15_1_bn[0][0]']     \n",
            " on)                                                                                              \n",
            "                                                                                                  \n",
            " conv4_block15_2_conv (Conv2D)  (None, 16, 16, 256)  590080      ['conv4_block15_1_relu[0][0]']   \n",
            "                                                                                                  \n",
            " conv4_block15_2_bn (BatchNorma  (None, 16, 16, 256)  1024       ['conv4_block15_2_conv[0][0]']   \n",
            " lization)                                                                                        \n",
            "                                                                                                  \n",
            " conv4_block15_2_relu (Activati  (None, 16, 16, 256)  0          ['conv4_block15_2_bn[0][0]']     \n",
            " on)                                                                                              \n",
            "                                                                                                  \n",
            " conv4_block15_3_conv (Conv2D)  (None, 16, 16, 1024  263168      ['conv4_block15_2_relu[0][0]']   \n",
            "                                )                                                                 \n",
            "                                                                                                  \n",
            " conv4_block15_3_bn (BatchNorma  (None, 16, 16, 1024  4096       ['conv4_block15_3_conv[0][0]']   \n",
            " lization)                      )                                                                 \n",
            "                                                                                                  \n",
            " conv4_block15_add (Add)        (None, 16, 16, 1024  0           ['conv4_block14_out[0][0]',      \n",
            "                                )                                 'conv4_block15_3_bn[0][0]']     \n",
            "                                                                                                  \n",
            " conv4_block15_out (Activation)  (None, 16, 16, 1024  0          ['conv4_block15_add[0][0]']      \n",
            "                                )                                                                 \n",
            "                                                                                                  \n",
            " conv4_block16_1_conv (Conv2D)  (None, 16, 16, 256)  262400      ['conv4_block15_out[0][0]']      \n",
            "                                                                                                  \n",
            " conv4_block16_1_bn (BatchNorma  (None, 16, 16, 256)  1024       ['conv4_block16_1_conv[0][0]']   \n",
            " lization)                                                                                        \n",
            "                                                                                                  \n",
            " conv4_block16_1_relu (Activati  (None, 16, 16, 256)  0          ['conv4_block16_1_bn[0][0]']     \n",
            " on)                                                                                              \n",
            "                                                                                                  \n",
            " conv4_block16_2_conv (Conv2D)  (None, 16, 16, 256)  590080      ['conv4_block16_1_relu[0][0]']   \n",
            "                                                                                                  \n",
            " conv4_block16_2_bn (BatchNorma  (None, 16, 16, 256)  1024       ['conv4_block16_2_conv[0][0]']   \n",
            " lization)                                                                                        \n",
            "                                                                                                  \n",
            " conv4_block16_2_relu (Activati  (None, 16, 16, 256)  0          ['conv4_block16_2_bn[0][0]']     \n",
            " on)                                                                                              \n",
            "                                                                                                  \n",
            " conv4_block16_3_conv (Conv2D)  (None, 16, 16, 1024  263168      ['conv4_block16_2_relu[0][0]']   \n",
            "                                )                                                                 \n",
            "                                                                                                  \n",
            " conv4_block16_3_bn (BatchNorma  (None, 16, 16, 1024  4096       ['conv4_block16_3_conv[0][0]']   \n",
            " lization)                      )                                                                 \n",
            "                                                                                                  \n",
            " conv4_block16_add (Add)        (None, 16, 16, 1024  0           ['conv4_block15_out[0][0]',      \n",
            "                                )                                 'conv4_block16_3_bn[0][0]']     \n",
            "                                                                                                  \n",
            " conv4_block16_out (Activation)  (None, 16, 16, 1024  0          ['conv4_block16_add[0][0]']      \n",
            "                                )                                                                 \n",
            "                                                                                                  \n",
            " conv4_block17_1_conv (Conv2D)  (None, 16, 16, 256)  262400      ['conv4_block16_out[0][0]']      \n",
            "                                                                                                  \n",
            " conv4_block17_1_bn (BatchNorma  (None, 16, 16, 256)  1024       ['conv4_block17_1_conv[0][0]']   \n",
            " lization)                                                                                        \n",
            "                                                                                                  \n",
            " conv4_block17_1_relu (Activati  (None, 16, 16, 256)  0          ['conv4_block17_1_bn[0][0]']     \n",
            " on)                                                                                              \n",
            "                                                                                                  \n",
            " conv4_block17_2_conv (Conv2D)  (None, 16, 16, 256)  590080      ['conv4_block17_1_relu[0][0]']   \n",
            "                                                                                                  \n",
            " conv4_block17_2_bn (BatchNorma  (None, 16, 16, 256)  1024       ['conv4_block17_2_conv[0][0]']   \n",
            " lization)                                                                                        \n",
            "                                                                                                  \n",
            " conv4_block17_2_relu (Activati  (None, 16, 16, 256)  0          ['conv4_block17_2_bn[0][0]']     \n",
            " on)                                                                                              \n",
            "                                                                                                  \n",
            " conv4_block17_3_conv (Conv2D)  (None, 16, 16, 1024  263168      ['conv4_block17_2_relu[0][0]']   \n",
            "                                )                                                                 \n",
            "                                                                                                  \n",
            " conv4_block17_3_bn (BatchNorma  (None, 16, 16, 1024  4096       ['conv4_block17_3_conv[0][0]']   \n",
            " lization)                      )                                                                 \n",
            "                                                                                                  \n",
            " conv4_block17_add (Add)        (None, 16, 16, 1024  0           ['conv4_block16_out[0][0]',      \n",
            "                                )                                 'conv4_block17_3_bn[0][0]']     \n",
            "                                                                                                  \n",
            " conv4_block17_out (Activation)  (None, 16, 16, 1024  0          ['conv4_block17_add[0][0]']      \n",
            "                                )                                                                 \n",
            "                                                                                                  \n",
            " conv4_block18_1_conv (Conv2D)  (None, 16, 16, 256)  262400      ['conv4_block17_out[0][0]']      \n",
            "                                                                                                  \n",
            " conv4_block18_1_bn (BatchNorma  (None, 16, 16, 256)  1024       ['conv4_block18_1_conv[0][0]']   \n",
            " lization)                                                                                        \n",
            "                                                                                                  \n",
            " conv4_block18_1_relu (Activati  (None, 16, 16, 256)  0          ['conv4_block18_1_bn[0][0]']     \n",
            " on)                                                                                              \n",
            "                                                                                                  \n",
            " conv4_block18_2_conv (Conv2D)  (None, 16, 16, 256)  590080      ['conv4_block18_1_relu[0][0]']   \n",
            "                                                                                                  \n",
            " conv4_block18_2_bn (BatchNorma  (None, 16, 16, 256)  1024       ['conv4_block18_2_conv[0][0]']   \n",
            " lization)                                                                                        \n",
            "                                                                                                  \n",
            " conv4_block18_2_relu (Activati  (None, 16, 16, 256)  0          ['conv4_block18_2_bn[0][0]']     \n",
            " on)                                                                                              \n",
            "                                                                                                  \n",
            " conv4_block18_3_conv (Conv2D)  (None, 16, 16, 1024  263168      ['conv4_block18_2_relu[0][0]']   \n",
            "                                )                                                                 \n",
            "                                                                                                  \n",
            " conv4_block18_3_bn (BatchNorma  (None, 16, 16, 1024  4096       ['conv4_block18_3_conv[0][0]']   \n",
            " lization)                      )                                                                 \n",
            "                                                                                                  \n",
            " conv4_block18_add (Add)        (None, 16, 16, 1024  0           ['conv4_block17_out[0][0]',      \n",
            "                                )                                 'conv4_block18_3_bn[0][0]']     \n",
            "                                                                                                  \n",
            " conv4_block18_out (Activation)  (None, 16, 16, 1024  0          ['conv4_block18_add[0][0]']      \n",
            "                                )                                                                 \n",
            "                                                                                                  \n",
            " conv4_block19_1_conv (Conv2D)  (None, 16, 16, 256)  262400      ['conv4_block18_out[0][0]']      \n",
            "                                                                                                  \n",
            " conv4_block19_1_bn (BatchNorma  (None, 16, 16, 256)  1024       ['conv4_block19_1_conv[0][0]']   \n",
            " lization)                                                                                        \n",
            "                                                                                                  \n",
            " conv4_block19_1_relu (Activati  (None, 16, 16, 256)  0          ['conv4_block19_1_bn[0][0]']     \n",
            " on)                                                                                              \n",
            "                                                                                                  \n",
            " conv4_block19_2_conv (Conv2D)  (None, 16, 16, 256)  590080      ['conv4_block19_1_relu[0][0]']   \n",
            "                                                                                                  \n",
            " conv4_block19_2_bn (BatchNorma  (None, 16, 16, 256)  1024       ['conv4_block19_2_conv[0][0]']   \n",
            " lization)                                                                                        \n",
            "                                                                                                  \n",
            " conv4_block19_2_relu (Activati  (None, 16, 16, 256)  0          ['conv4_block19_2_bn[0][0]']     \n",
            " on)                                                                                              \n",
            "                                                                                                  \n",
            " conv4_block19_3_conv (Conv2D)  (None, 16, 16, 1024  263168      ['conv4_block19_2_relu[0][0]']   \n",
            "                                )                                                                 \n",
            "                                                                                                  \n",
            " conv4_block19_3_bn (BatchNorma  (None, 16, 16, 1024  4096       ['conv4_block19_3_conv[0][0]']   \n",
            " lization)                      )                                                                 \n",
            "                                                                                                  \n",
            " conv4_block19_add (Add)        (None, 16, 16, 1024  0           ['conv4_block18_out[0][0]',      \n",
            "                                )                                 'conv4_block19_3_bn[0][0]']     \n",
            "                                                                                                  \n",
            " conv4_block19_out (Activation)  (None, 16, 16, 1024  0          ['conv4_block19_add[0][0]']      \n",
            "                                )                                                                 \n",
            "                                                                                                  \n",
            " conv4_block20_1_conv (Conv2D)  (None, 16, 16, 256)  262400      ['conv4_block19_out[0][0]']      \n",
            "                                                                                                  \n",
            " conv4_block20_1_bn (BatchNorma  (None, 16, 16, 256)  1024       ['conv4_block20_1_conv[0][0]']   \n",
            " lization)                                                                                        \n",
            "                                                                                                  \n",
            " conv4_block20_1_relu (Activati  (None, 16, 16, 256)  0          ['conv4_block20_1_bn[0][0]']     \n",
            " on)                                                                                              \n",
            "                                                                                                  \n",
            " conv4_block20_2_conv (Conv2D)  (None, 16, 16, 256)  590080      ['conv4_block20_1_relu[0][0]']   \n",
            "                                                                                                  \n",
            " conv4_block20_2_bn (BatchNorma  (None, 16, 16, 256)  1024       ['conv4_block20_2_conv[0][0]']   \n",
            " lization)                                                                                        \n",
            "                                                                                                  \n",
            " conv4_block20_2_relu (Activati  (None, 16, 16, 256)  0          ['conv4_block20_2_bn[0][0]']     \n",
            " on)                                                                                              \n",
            "                                                                                                  \n",
            " conv4_block20_3_conv (Conv2D)  (None, 16, 16, 1024  263168      ['conv4_block20_2_relu[0][0]']   \n",
            "                                )                                                                 \n",
            "                                                                                                  \n",
            " conv4_block20_3_bn (BatchNorma  (None, 16, 16, 1024  4096       ['conv4_block20_3_conv[0][0]']   \n",
            " lization)                      )                                                                 \n",
            "                                                                                                  \n",
            " conv4_block20_add (Add)        (None, 16, 16, 1024  0           ['conv4_block19_out[0][0]',      \n",
            "                                )                                 'conv4_block20_3_bn[0][0]']     \n",
            "                                                                                                  \n",
            " conv4_block20_out (Activation)  (None, 16, 16, 1024  0          ['conv4_block20_add[0][0]']      \n",
            "                                )                                                                 \n",
            "                                                                                                  \n",
            " conv4_block21_1_conv (Conv2D)  (None, 16, 16, 256)  262400      ['conv4_block20_out[0][0]']      \n",
            "                                                                                                  \n",
            " conv4_block21_1_bn (BatchNorma  (None, 16, 16, 256)  1024       ['conv4_block21_1_conv[0][0]']   \n",
            " lization)                                                                                        \n",
            "                                                                                                  \n",
            " conv4_block21_1_relu (Activati  (None, 16, 16, 256)  0          ['conv4_block21_1_bn[0][0]']     \n",
            " on)                                                                                              \n",
            "                                                                                                  \n",
            " conv4_block21_2_conv (Conv2D)  (None, 16, 16, 256)  590080      ['conv4_block21_1_relu[0][0]']   \n",
            "                                                                                                  \n",
            " conv4_block21_2_bn (BatchNorma  (None, 16, 16, 256)  1024       ['conv4_block21_2_conv[0][0]']   \n",
            " lization)                                                                                        \n",
            "                                                                                                  \n",
            " conv4_block21_2_relu (Activati  (None, 16, 16, 256)  0          ['conv4_block21_2_bn[0][0]']     \n",
            " on)                                                                                              \n",
            "                                                                                                  \n",
            " conv4_block21_3_conv (Conv2D)  (None, 16, 16, 1024  263168      ['conv4_block21_2_relu[0][0]']   \n",
            "                                )                                                                 \n",
            "                                                                                                  \n",
            " conv4_block21_3_bn (BatchNorma  (None, 16, 16, 1024  4096       ['conv4_block21_3_conv[0][0]']   \n",
            " lization)                      )                                                                 \n",
            "                                                                                                  \n",
            " conv4_block21_add (Add)        (None, 16, 16, 1024  0           ['conv4_block20_out[0][0]',      \n",
            "                                )                                 'conv4_block21_3_bn[0][0]']     \n",
            "                                                                                                  \n",
            " conv4_block21_out (Activation)  (None, 16, 16, 1024  0          ['conv4_block21_add[0][0]']      \n",
            "                                )                                                                 \n",
            "                                                                                                  \n",
            " conv4_block22_1_conv (Conv2D)  (None, 16, 16, 256)  262400      ['conv4_block21_out[0][0]']      \n",
            "                                                                                                  \n",
            " conv4_block22_1_bn (BatchNorma  (None, 16, 16, 256)  1024       ['conv4_block22_1_conv[0][0]']   \n",
            " lization)                                                                                        \n",
            "                                                                                                  \n",
            " conv4_block22_1_relu (Activati  (None, 16, 16, 256)  0          ['conv4_block22_1_bn[0][0]']     \n",
            " on)                                                                                              \n",
            "                                                                                                  \n",
            " conv4_block22_2_conv (Conv2D)  (None, 16, 16, 256)  590080      ['conv4_block22_1_relu[0][0]']   \n",
            "                                                                                                  \n",
            " conv4_block22_2_bn (BatchNorma  (None, 16, 16, 256)  1024       ['conv4_block22_2_conv[0][0]']   \n",
            " lization)                                                                                        \n",
            "                                                                                                  \n",
            " conv4_block22_2_relu (Activati  (None, 16, 16, 256)  0          ['conv4_block22_2_bn[0][0]']     \n",
            " on)                                                                                              \n",
            "                                                                                                  \n",
            " conv4_block22_3_conv (Conv2D)  (None, 16, 16, 1024  263168      ['conv4_block22_2_relu[0][0]']   \n",
            "                                )                                                                 \n",
            "                                                                                                  \n",
            " conv4_block22_3_bn (BatchNorma  (None, 16, 16, 1024  4096       ['conv4_block22_3_conv[0][0]']   \n",
            " lization)                      )                                                                 \n",
            "                                                                                                  \n",
            " conv4_block22_add (Add)        (None, 16, 16, 1024  0           ['conv4_block21_out[0][0]',      \n",
            "                                )                                 'conv4_block22_3_bn[0][0]']     \n",
            "                                                                                                  \n",
            " conv4_block22_out (Activation)  (None, 16, 16, 1024  0          ['conv4_block22_add[0][0]']      \n",
            "                                )                                                                 \n",
            "                                                                                                  \n",
            " conv4_block23_1_conv (Conv2D)  (None, 16, 16, 256)  262400      ['conv4_block22_out[0][0]']      \n",
            "                                                                                                  \n",
            " conv4_block23_1_bn (BatchNorma  (None, 16, 16, 256)  1024       ['conv4_block23_1_conv[0][0]']   \n",
            " lization)                                                                                        \n",
            "                                                                                                  \n",
            " conv4_block23_1_relu (Activati  (None, 16, 16, 256)  0          ['conv4_block23_1_bn[0][0]']     \n",
            " on)                                                                                              \n",
            "                                                                                                  \n",
            " conv4_block23_2_conv (Conv2D)  (None, 16, 16, 256)  590080      ['conv4_block23_1_relu[0][0]']   \n",
            "                                                                                                  \n",
            " conv4_block23_2_bn (BatchNorma  (None, 16, 16, 256)  1024       ['conv4_block23_2_conv[0][0]']   \n",
            " lization)                                                                                        \n",
            "                                                                                                  \n",
            " conv4_block23_2_relu (Activati  (None, 16, 16, 256)  0          ['conv4_block23_2_bn[0][0]']     \n",
            " on)                                                                                              \n",
            "                                                                                                  \n",
            " conv4_block23_3_conv (Conv2D)  (None, 16, 16, 1024  263168      ['conv4_block23_2_relu[0][0]']   \n",
            "                                )                                                                 \n",
            "                                                                                                  \n",
            " conv4_block23_3_bn (BatchNorma  (None, 16, 16, 1024  4096       ['conv4_block23_3_conv[0][0]']   \n",
            " lization)                      )                                                                 \n",
            "                                                                                                  \n",
            " conv4_block23_add (Add)        (None, 16, 16, 1024  0           ['conv4_block22_out[0][0]',      \n",
            "                                )                                 'conv4_block23_3_bn[0][0]']     \n",
            "                                                                                                  \n",
            " conv4_block23_out (Activation)  (None, 16, 16, 1024  0          ['conv4_block23_add[0][0]']      \n",
            "                                )                                                                 \n",
            "                                                                                                  \n",
            " conv4_block24_1_conv (Conv2D)  (None, 16, 16, 256)  262400      ['conv4_block23_out[0][0]']      \n",
            "                                                                                                  \n",
            " conv4_block24_1_bn (BatchNorma  (None, 16, 16, 256)  1024       ['conv4_block24_1_conv[0][0]']   \n",
            " lization)                                                                                        \n",
            "                                                                                                  \n",
            " conv4_block24_1_relu (Activati  (None, 16, 16, 256)  0          ['conv4_block24_1_bn[0][0]']     \n",
            " on)                                                                                              \n",
            "                                                                                                  \n",
            " conv4_block24_2_conv (Conv2D)  (None, 16, 16, 256)  590080      ['conv4_block24_1_relu[0][0]']   \n",
            "                                                                                                  \n",
            " conv4_block24_2_bn (BatchNorma  (None, 16, 16, 256)  1024       ['conv4_block24_2_conv[0][0]']   \n",
            " lization)                                                                                        \n",
            "                                                                                                  \n",
            " conv4_block24_2_relu (Activati  (None, 16, 16, 256)  0          ['conv4_block24_2_bn[0][0]']     \n",
            " on)                                                                                              \n",
            "                                                                                                  \n",
            " conv4_block24_3_conv (Conv2D)  (None, 16, 16, 1024  263168      ['conv4_block24_2_relu[0][0]']   \n",
            "                                )                                                                 \n",
            "                                                                                                  \n",
            " conv4_block24_3_bn (BatchNorma  (None, 16, 16, 1024  4096       ['conv4_block24_3_conv[0][0]']   \n",
            " lization)                      )                                                                 \n",
            "                                                                                                  \n",
            " conv4_block24_add (Add)        (None, 16, 16, 1024  0           ['conv4_block23_out[0][0]',      \n",
            "                                )                                 'conv4_block24_3_bn[0][0]']     \n",
            "                                                                                                  \n",
            " conv4_block24_out (Activation)  (None, 16, 16, 1024  0          ['conv4_block24_add[0][0]']      \n",
            "                                )                                                                 \n",
            "                                                                                                  \n",
            " conv4_block25_1_conv (Conv2D)  (None, 16, 16, 256)  262400      ['conv4_block24_out[0][0]']      \n",
            "                                                                                                  \n",
            " conv4_block25_1_bn (BatchNorma  (None, 16, 16, 256)  1024       ['conv4_block25_1_conv[0][0]']   \n",
            " lization)                                                                                        \n",
            "                                                                                                  \n",
            " conv4_block25_1_relu (Activati  (None, 16, 16, 256)  0          ['conv4_block25_1_bn[0][0]']     \n",
            " on)                                                                                              \n",
            "                                                                                                  \n",
            " conv4_block25_2_conv (Conv2D)  (None, 16, 16, 256)  590080      ['conv4_block25_1_relu[0][0]']   \n",
            "                                                                                                  \n",
            " conv4_block25_2_bn (BatchNorma  (None, 16, 16, 256)  1024       ['conv4_block25_2_conv[0][0]']   \n",
            " lization)                                                                                        \n",
            "                                                                                                  \n",
            " conv4_block25_2_relu (Activati  (None, 16, 16, 256)  0          ['conv4_block25_2_bn[0][0]']     \n",
            " on)                                                                                              \n",
            "                                                                                                  \n",
            " conv4_block25_3_conv (Conv2D)  (None, 16, 16, 1024  263168      ['conv4_block25_2_relu[0][0]']   \n",
            "                                )                                                                 \n",
            "                                                                                                  \n",
            " conv4_block25_3_bn (BatchNorma  (None, 16, 16, 1024  4096       ['conv4_block25_3_conv[0][0]']   \n",
            " lization)                      )                                                                 \n",
            "                                                                                                  \n",
            " conv4_block25_add (Add)        (None, 16, 16, 1024  0           ['conv4_block24_out[0][0]',      \n",
            "                                )                                 'conv4_block25_3_bn[0][0]']     \n",
            "                                                                                                  \n",
            " conv4_block25_out (Activation)  (None, 16, 16, 1024  0          ['conv4_block25_add[0][0]']      \n",
            "                                )                                                                 \n",
            "                                                                                                  \n",
            " conv4_block26_1_conv (Conv2D)  (None, 16, 16, 256)  262400      ['conv4_block25_out[0][0]']      \n",
            "                                                                                                  \n",
            " conv4_block26_1_bn (BatchNorma  (None, 16, 16, 256)  1024       ['conv4_block26_1_conv[0][0]']   \n",
            " lization)                                                                                        \n",
            "                                                                                                  \n",
            " conv4_block26_1_relu (Activati  (None, 16, 16, 256)  0          ['conv4_block26_1_bn[0][0]']     \n",
            " on)                                                                                              \n",
            "                                                                                                  \n",
            " conv4_block26_2_conv (Conv2D)  (None, 16, 16, 256)  590080      ['conv4_block26_1_relu[0][0]']   \n",
            "                                                                                                  \n",
            " conv4_block26_2_bn (BatchNorma  (None, 16, 16, 256)  1024       ['conv4_block26_2_conv[0][0]']   \n",
            " lization)                                                                                        \n",
            "                                                                                                  \n",
            " conv4_block26_2_relu (Activati  (None, 16, 16, 256)  0          ['conv4_block26_2_bn[0][0]']     \n",
            " on)                                                                                              \n",
            "                                                                                                  \n",
            " conv4_block26_3_conv (Conv2D)  (None, 16, 16, 1024  263168      ['conv4_block26_2_relu[0][0]']   \n",
            "                                )                                                                 \n",
            "                                                                                                  \n",
            " conv4_block26_3_bn (BatchNorma  (None, 16, 16, 1024  4096       ['conv4_block26_3_conv[0][0]']   \n",
            " lization)                      )                                                                 \n",
            "                                                                                                  \n",
            " conv4_block26_add (Add)        (None, 16, 16, 1024  0           ['conv4_block25_out[0][0]',      \n",
            "                                )                                 'conv4_block26_3_bn[0][0]']     \n",
            "                                                                                                  \n",
            " conv4_block26_out (Activation)  (None, 16, 16, 1024  0          ['conv4_block26_add[0][0]']      \n",
            "                                )                                                                 \n",
            "                                                                                                  \n",
            " conv4_block27_1_conv (Conv2D)  (None, 16, 16, 256)  262400      ['conv4_block26_out[0][0]']      \n",
            "                                                                                                  \n",
            " conv4_block27_1_bn (BatchNorma  (None, 16, 16, 256)  1024       ['conv4_block27_1_conv[0][0]']   \n",
            " lization)                                                                                        \n",
            "                                                                                                  \n",
            " conv4_block27_1_relu (Activati  (None, 16, 16, 256)  0          ['conv4_block27_1_bn[0][0]']     \n",
            " on)                                                                                              \n",
            "                                                                                                  \n",
            " conv4_block27_2_conv (Conv2D)  (None, 16, 16, 256)  590080      ['conv4_block27_1_relu[0][0]']   \n",
            "                                                                                                  \n",
            " conv4_block27_2_bn (BatchNorma  (None, 16, 16, 256)  1024       ['conv4_block27_2_conv[0][0]']   \n",
            " lization)                                                                                        \n",
            "                                                                                                  \n",
            " conv4_block27_2_relu (Activati  (None, 16, 16, 256)  0          ['conv4_block27_2_bn[0][0]']     \n",
            " on)                                                                                              \n",
            "                                                                                                  \n",
            " conv4_block27_3_conv (Conv2D)  (None, 16, 16, 1024  263168      ['conv4_block27_2_relu[0][0]']   \n",
            "                                )                                                                 \n",
            "                                                                                                  \n",
            " conv4_block27_3_bn (BatchNorma  (None, 16, 16, 1024  4096       ['conv4_block27_3_conv[0][0]']   \n",
            " lization)                      )                                                                 \n",
            "                                                                                                  \n",
            " conv4_block27_add (Add)        (None, 16, 16, 1024  0           ['conv4_block26_out[0][0]',      \n",
            "                                )                                 'conv4_block27_3_bn[0][0]']     \n",
            "                                                                                                  \n",
            " conv4_block27_out (Activation)  (None, 16, 16, 1024  0          ['conv4_block27_add[0][0]']      \n",
            "                                )                                                                 \n",
            "                                                                                                  \n",
            " conv4_block28_1_conv (Conv2D)  (None, 16, 16, 256)  262400      ['conv4_block27_out[0][0]']      \n",
            "                                                                                                  \n",
            " conv4_block28_1_bn (BatchNorma  (None, 16, 16, 256)  1024       ['conv4_block28_1_conv[0][0]']   \n",
            " lization)                                                                                        \n",
            "                                                                                                  \n",
            " conv4_block28_1_relu (Activati  (None, 16, 16, 256)  0          ['conv4_block28_1_bn[0][0]']     \n",
            " on)                                                                                              \n",
            "                                                                                                  \n",
            " conv4_block28_2_conv (Conv2D)  (None, 16, 16, 256)  590080      ['conv4_block28_1_relu[0][0]']   \n",
            "                                                                                                  \n",
            " conv4_block28_2_bn (BatchNorma  (None, 16, 16, 256)  1024       ['conv4_block28_2_conv[0][0]']   \n",
            " lization)                                                                                        \n",
            "                                                                                                  \n",
            " conv4_block28_2_relu (Activati  (None, 16, 16, 256)  0          ['conv4_block28_2_bn[0][0]']     \n",
            " on)                                                                                              \n",
            "                                                                                                  \n",
            " conv4_block28_3_conv (Conv2D)  (None, 16, 16, 1024  263168      ['conv4_block28_2_relu[0][0]']   \n",
            "                                )                                                                 \n",
            "                                                                                                  \n",
            " conv4_block28_3_bn (BatchNorma  (None, 16, 16, 1024  4096       ['conv4_block28_3_conv[0][0]']   \n",
            " lization)                      )                                                                 \n",
            "                                                                                                  \n",
            " conv4_block28_add (Add)        (None, 16, 16, 1024  0           ['conv4_block27_out[0][0]',      \n",
            "                                )                                 'conv4_block28_3_bn[0][0]']     \n",
            "                                                                                                  \n",
            " conv4_block28_out (Activation)  (None, 16, 16, 1024  0          ['conv4_block28_add[0][0]']      \n",
            "                                )                                                                 \n",
            "                                                                                                  \n",
            " conv4_block29_1_conv (Conv2D)  (None, 16, 16, 256)  262400      ['conv4_block28_out[0][0]']      \n",
            "                                                                                                  \n",
            " conv4_block29_1_bn (BatchNorma  (None, 16, 16, 256)  1024       ['conv4_block29_1_conv[0][0]']   \n",
            " lization)                                                                                        \n",
            "                                                                                                  \n",
            " conv4_block29_1_relu (Activati  (None, 16, 16, 256)  0          ['conv4_block29_1_bn[0][0]']     \n",
            " on)                                                                                              \n",
            "                                                                                                  \n",
            " conv4_block29_2_conv (Conv2D)  (None, 16, 16, 256)  590080      ['conv4_block29_1_relu[0][0]']   \n",
            "                                                                                                  \n",
            " conv4_block29_2_bn (BatchNorma  (None, 16, 16, 256)  1024       ['conv4_block29_2_conv[0][0]']   \n",
            " lization)                                                                                        \n",
            "                                                                                                  \n",
            " conv4_block29_2_relu (Activati  (None, 16, 16, 256)  0          ['conv4_block29_2_bn[0][0]']     \n",
            " on)                                                                                              \n",
            "                                                                                                  \n",
            " conv4_block29_3_conv (Conv2D)  (None, 16, 16, 1024  263168      ['conv4_block29_2_relu[0][0]']   \n",
            "                                )                                                                 \n",
            "                                                                                                  \n",
            " conv4_block29_3_bn (BatchNorma  (None, 16, 16, 1024  4096       ['conv4_block29_3_conv[0][0]']   \n",
            " lization)                      )                                                                 \n",
            "                                                                                                  \n",
            " conv4_block29_add (Add)        (None, 16, 16, 1024  0           ['conv4_block28_out[0][0]',      \n",
            "                                )                                 'conv4_block29_3_bn[0][0]']     \n",
            "                                                                                                  \n",
            " conv4_block29_out (Activation)  (None, 16, 16, 1024  0          ['conv4_block29_add[0][0]']      \n",
            "                                )                                                                 \n",
            "                                                                                                  \n",
            " conv4_block30_1_conv (Conv2D)  (None, 16, 16, 256)  262400      ['conv4_block29_out[0][0]']      \n",
            "                                                                                                  \n",
            " conv4_block30_1_bn (BatchNorma  (None, 16, 16, 256)  1024       ['conv4_block30_1_conv[0][0]']   \n",
            " lization)                                                                                        \n",
            "                                                                                                  \n",
            " conv4_block30_1_relu (Activati  (None, 16, 16, 256)  0          ['conv4_block30_1_bn[0][0]']     \n",
            " on)                                                                                              \n",
            "                                                                                                  \n",
            " conv4_block30_2_conv (Conv2D)  (None, 16, 16, 256)  590080      ['conv4_block30_1_relu[0][0]']   \n",
            "                                                                                                  \n",
            " conv4_block30_2_bn (BatchNorma  (None, 16, 16, 256)  1024       ['conv4_block30_2_conv[0][0]']   \n",
            " lization)                                                                                        \n",
            "                                                                                                  \n",
            " conv4_block30_2_relu (Activati  (None, 16, 16, 256)  0          ['conv4_block30_2_bn[0][0]']     \n",
            " on)                                                                                              \n",
            "                                                                                                  \n",
            " conv4_block30_3_conv (Conv2D)  (None, 16, 16, 1024  263168      ['conv4_block30_2_relu[0][0]']   \n",
            "                                )                                                                 \n",
            "                                                                                                  \n",
            " conv4_block30_3_bn (BatchNorma  (None, 16, 16, 1024  4096       ['conv4_block30_3_conv[0][0]']   \n",
            " lization)                      )                                                                 \n",
            "                                                                                                  \n",
            " conv4_block30_add (Add)        (None, 16, 16, 1024  0           ['conv4_block29_out[0][0]',      \n",
            "                                )                                 'conv4_block30_3_bn[0][0]']     \n",
            "                                                                                                  \n",
            " conv4_block30_out (Activation)  (None, 16, 16, 1024  0          ['conv4_block30_add[0][0]']      \n",
            "                                )                                                                 \n",
            "                                                                                                  \n",
            " conv4_block31_1_conv (Conv2D)  (None, 16, 16, 256)  262400      ['conv4_block30_out[0][0]']      \n",
            "                                                                                                  \n",
            " conv4_block31_1_bn (BatchNorma  (None, 16, 16, 256)  1024       ['conv4_block31_1_conv[0][0]']   \n",
            " lization)                                                                                        \n",
            "                                                                                                  \n",
            " conv4_block31_1_relu (Activati  (None, 16, 16, 256)  0          ['conv4_block31_1_bn[0][0]']     \n",
            " on)                                                                                              \n",
            "                                                                                                  \n",
            " conv4_block31_2_conv (Conv2D)  (None, 16, 16, 256)  590080      ['conv4_block31_1_relu[0][0]']   \n",
            "                                                                                                  \n",
            " conv4_block31_2_bn (BatchNorma  (None, 16, 16, 256)  1024       ['conv4_block31_2_conv[0][0]']   \n",
            " lization)                                                                                        \n",
            "                                                                                                  \n",
            " conv4_block31_2_relu (Activati  (None, 16, 16, 256)  0          ['conv4_block31_2_bn[0][0]']     \n",
            " on)                                                                                              \n",
            "                                                                                                  \n",
            " conv4_block31_3_conv (Conv2D)  (None, 16, 16, 1024  263168      ['conv4_block31_2_relu[0][0]']   \n",
            "                                )                                                                 \n",
            "                                                                                                  \n",
            " conv4_block31_3_bn (BatchNorma  (None, 16, 16, 1024  4096       ['conv4_block31_3_conv[0][0]']   \n",
            " lization)                      )                                                                 \n",
            "                                                                                                  \n",
            " conv4_block31_add (Add)        (None, 16, 16, 1024  0           ['conv4_block30_out[0][0]',      \n",
            "                                )                                 'conv4_block31_3_bn[0][0]']     \n",
            "                                                                                                  \n",
            " conv4_block31_out (Activation)  (None, 16, 16, 1024  0          ['conv4_block31_add[0][0]']      \n",
            "                                )                                                                 \n",
            "                                                                                                  \n",
            " conv4_block32_1_conv (Conv2D)  (None, 16, 16, 256)  262400      ['conv4_block31_out[0][0]']      \n",
            "                                                                                                  \n",
            " conv4_block32_1_bn (BatchNorma  (None, 16, 16, 256)  1024       ['conv4_block32_1_conv[0][0]']   \n",
            " lization)                                                                                        \n",
            "                                                                                                  \n",
            " conv4_block32_1_relu (Activati  (None, 16, 16, 256)  0          ['conv4_block32_1_bn[0][0]']     \n",
            " on)                                                                                              \n",
            "                                                                                                  \n",
            " conv4_block32_2_conv (Conv2D)  (None, 16, 16, 256)  590080      ['conv4_block32_1_relu[0][0]']   \n",
            "                                                                                                  \n",
            " conv4_block32_2_bn (BatchNorma  (None, 16, 16, 256)  1024       ['conv4_block32_2_conv[0][0]']   \n",
            " lization)                                                                                        \n",
            "                                                                                                  \n",
            " conv4_block32_2_relu (Activati  (None, 16, 16, 256)  0          ['conv4_block32_2_bn[0][0]']     \n",
            " on)                                                                                              \n",
            "                                                                                                  \n",
            " conv4_block32_3_conv (Conv2D)  (None, 16, 16, 1024  263168      ['conv4_block32_2_relu[0][0]']   \n",
            "                                )                                                                 \n",
            "                                                                                                  \n",
            " conv4_block32_3_bn (BatchNorma  (None, 16, 16, 1024  4096       ['conv4_block32_3_conv[0][0]']   \n",
            " lization)                      )                                                                 \n",
            "                                                                                                  \n",
            " conv4_block32_add (Add)        (None, 16, 16, 1024  0           ['conv4_block31_out[0][0]',      \n",
            "                                )                                 'conv4_block32_3_bn[0][0]']     \n",
            "                                                                                                  \n",
            " conv4_block32_out (Activation)  (None, 16, 16, 1024  0          ['conv4_block32_add[0][0]']      \n",
            "                                )                                                                 \n",
            "                                                                                                  \n",
            " conv4_block33_1_conv (Conv2D)  (None, 16, 16, 256)  262400      ['conv4_block32_out[0][0]']      \n",
            "                                                                                                  \n",
            " conv4_block33_1_bn (BatchNorma  (None, 16, 16, 256)  1024       ['conv4_block33_1_conv[0][0]']   \n",
            " lization)                                                                                        \n",
            "                                                                                                  \n",
            " conv4_block33_1_relu (Activati  (None, 16, 16, 256)  0          ['conv4_block33_1_bn[0][0]']     \n",
            " on)                                                                                              \n",
            "                                                                                                  \n",
            " conv4_block33_2_conv (Conv2D)  (None, 16, 16, 256)  590080      ['conv4_block33_1_relu[0][0]']   \n",
            "                                                                                                  \n",
            " conv4_block33_2_bn (BatchNorma  (None, 16, 16, 256)  1024       ['conv4_block33_2_conv[0][0]']   \n",
            " lization)                                                                                        \n",
            "                                                                                                  \n",
            " conv4_block33_2_relu (Activati  (None, 16, 16, 256)  0          ['conv4_block33_2_bn[0][0]']     \n",
            " on)                                                                                              \n",
            "                                                                                                  \n",
            " conv4_block33_3_conv (Conv2D)  (None, 16, 16, 1024  263168      ['conv4_block33_2_relu[0][0]']   \n",
            "                                )                                                                 \n",
            "                                                                                                  \n",
            " conv4_block33_3_bn (BatchNorma  (None, 16, 16, 1024  4096       ['conv4_block33_3_conv[0][0]']   \n",
            " lization)                      )                                                                 \n",
            "                                                                                                  \n",
            " conv4_block33_add (Add)        (None, 16, 16, 1024  0           ['conv4_block32_out[0][0]',      \n",
            "                                )                                 'conv4_block33_3_bn[0][0]']     \n",
            "                                                                                                  \n",
            " conv4_block33_out (Activation)  (None, 16, 16, 1024  0          ['conv4_block33_add[0][0]']      \n",
            "                                )                                                                 \n",
            "                                                                                                  \n",
            " conv4_block34_1_conv (Conv2D)  (None, 16, 16, 256)  262400      ['conv4_block33_out[0][0]']      \n",
            "                                                                                                  \n",
            " conv4_block34_1_bn (BatchNorma  (None, 16, 16, 256)  1024       ['conv4_block34_1_conv[0][0]']   \n",
            " lization)                                                                                        \n",
            "                                                                                                  \n",
            " conv4_block34_1_relu (Activati  (None, 16, 16, 256)  0          ['conv4_block34_1_bn[0][0]']     \n",
            " on)                                                                                              \n",
            "                                                                                                  \n",
            " conv4_block34_2_conv (Conv2D)  (None, 16, 16, 256)  590080      ['conv4_block34_1_relu[0][0]']   \n",
            "                                                                                                  \n",
            " conv4_block34_2_bn (BatchNorma  (None, 16, 16, 256)  1024       ['conv4_block34_2_conv[0][0]']   \n",
            " lization)                                                                                        \n",
            "                                                                                                  \n",
            " conv4_block34_2_relu (Activati  (None, 16, 16, 256)  0          ['conv4_block34_2_bn[0][0]']     \n",
            " on)                                                                                              \n",
            "                                                                                                  \n",
            " conv4_block34_3_conv (Conv2D)  (None, 16, 16, 1024  263168      ['conv4_block34_2_relu[0][0]']   \n",
            "                                )                                                                 \n",
            "                                                                                                  \n",
            " conv4_block34_3_bn (BatchNorma  (None, 16, 16, 1024  4096       ['conv4_block34_3_conv[0][0]']   \n",
            " lization)                      )                                                                 \n",
            "                                                                                                  \n",
            " conv4_block34_add (Add)        (None, 16, 16, 1024  0           ['conv4_block33_out[0][0]',      \n",
            "                                )                                 'conv4_block34_3_bn[0][0]']     \n",
            "                                                                                                  \n",
            " conv4_block34_out (Activation)  (None, 16, 16, 1024  0          ['conv4_block34_add[0][0]']      \n",
            "                                )                                                                 \n",
            "                                                                                                  \n",
            " conv4_block35_1_conv (Conv2D)  (None, 16, 16, 256)  262400      ['conv4_block34_out[0][0]']      \n",
            "                                                                                                  \n",
            " conv4_block35_1_bn (BatchNorma  (None, 16, 16, 256)  1024       ['conv4_block35_1_conv[0][0]']   \n",
            " lization)                                                                                        \n",
            "                                                                                                  \n",
            " conv4_block35_1_relu (Activati  (None, 16, 16, 256)  0          ['conv4_block35_1_bn[0][0]']     \n",
            " on)                                                                                              \n",
            "                                                                                                  \n",
            " conv4_block35_2_conv (Conv2D)  (None, 16, 16, 256)  590080      ['conv4_block35_1_relu[0][0]']   \n",
            "                                                                                                  \n",
            " conv4_block35_2_bn (BatchNorma  (None, 16, 16, 256)  1024       ['conv4_block35_2_conv[0][0]']   \n",
            " lization)                                                                                        \n",
            "                                                                                                  \n",
            " conv4_block35_2_relu (Activati  (None, 16, 16, 256)  0          ['conv4_block35_2_bn[0][0]']     \n",
            " on)                                                                                              \n",
            "                                                                                                  \n",
            " conv4_block35_3_conv (Conv2D)  (None, 16, 16, 1024  263168      ['conv4_block35_2_relu[0][0]']   \n",
            "                                )                                                                 \n",
            "                                                                                                  \n",
            " conv4_block35_3_bn (BatchNorma  (None, 16, 16, 1024  4096       ['conv4_block35_3_conv[0][0]']   \n",
            " lization)                      )                                                                 \n",
            "                                                                                                  \n",
            " conv4_block35_add (Add)        (None, 16, 16, 1024  0           ['conv4_block34_out[0][0]',      \n",
            "                                )                                 'conv4_block35_3_bn[0][0]']     \n",
            "                                                                                                  \n",
            " conv4_block35_out (Activation)  (None, 16, 16, 1024  0          ['conv4_block35_add[0][0]']      \n",
            "                                )                                                                 \n",
            "                                                                                                  \n",
            " conv4_block36_1_conv (Conv2D)  (None, 16, 16, 256)  262400      ['conv4_block35_out[0][0]']      \n",
            "                                                                                                  \n",
            " conv4_block36_1_bn (BatchNorma  (None, 16, 16, 256)  1024       ['conv4_block36_1_conv[0][0]']   \n",
            " lization)                                                                                        \n",
            "                                                                                                  \n",
            " conv4_block36_1_relu (Activati  (None, 16, 16, 256)  0          ['conv4_block36_1_bn[0][0]']     \n",
            " on)                                                                                              \n",
            "                                                                                                  \n",
            " conv4_block36_2_conv (Conv2D)  (None, 16, 16, 256)  590080      ['conv4_block36_1_relu[0][0]']   \n",
            "                                                                                                  \n",
            " conv4_block36_2_bn (BatchNorma  (None, 16, 16, 256)  1024       ['conv4_block36_2_conv[0][0]']   \n",
            " lization)                                                                                        \n",
            "                                                                                                  \n",
            " conv4_block36_2_relu (Activati  (None, 16, 16, 256)  0          ['conv4_block36_2_bn[0][0]']     \n",
            " on)                                                                                              \n",
            "                                                                                                  \n",
            " conv4_block36_3_conv (Conv2D)  (None, 16, 16, 1024  263168      ['conv4_block36_2_relu[0][0]']   \n",
            "                                )                                                                 \n",
            "                                                                                                  \n",
            " conv4_block36_3_bn (BatchNorma  (None, 16, 16, 1024  4096       ['conv4_block36_3_conv[0][0]']   \n",
            " lization)                      )                                                                 \n",
            "                                                                                                  \n",
            " conv4_block36_add (Add)        (None, 16, 16, 1024  0           ['conv4_block35_out[0][0]',      \n",
            "                                )                                 'conv4_block36_3_bn[0][0]']     \n",
            "                                                                                                  \n",
            " conv4_block36_out (Activation)  (None, 16, 16, 1024  0          ['conv4_block36_add[0][0]']      \n",
            "                                )                                                                 \n",
            "                                                                                                  \n",
            " conv5_block1_1_conv (Conv2D)   (None, 8, 8, 512)    524800      ['conv4_block36_out[0][0]']      \n",
            "                                                                                                  \n",
            " conv5_block1_1_bn (BatchNormal  (None, 8, 8, 512)   2048        ['conv5_block1_1_conv[0][0]']    \n",
            " ization)                                                                                         \n",
            "                                                                                                  \n",
            " conv5_block1_1_relu (Activatio  (None, 8, 8, 512)   0           ['conv5_block1_1_bn[0][0]']      \n",
            " n)                                                                                               \n",
            "                                                                                                  \n",
            " conv5_block1_2_conv (Conv2D)   (None, 8, 8, 512)    2359808     ['conv5_block1_1_relu[0][0]']    \n",
            "                                                                                                  \n",
            " conv5_block1_2_bn (BatchNormal  (None, 8, 8, 512)   2048        ['conv5_block1_2_conv[0][0]']    \n",
            " ization)                                                                                         \n",
            "                                                                                                  \n",
            " conv5_block1_2_relu (Activatio  (None, 8, 8, 512)   0           ['conv5_block1_2_bn[0][0]']      \n",
            " n)                                                                                               \n",
            "                                                                                                  \n",
            " conv5_block1_0_conv (Conv2D)   (None, 8, 8, 2048)   2099200     ['conv4_block36_out[0][0]']      \n",
            "                                                                                                  \n",
            " conv5_block1_3_conv (Conv2D)   (None, 8, 8, 2048)   1050624     ['conv5_block1_2_relu[0][0]']    \n",
            "                                                                                                  \n",
            " conv5_block1_0_bn (BatchNormal  (None, 8, 8, 2048)  8192        ['conv5_block1_0_conv[0][0]']    \n",
            " ization)                                                                                         \n",
            "                                                                                                  \n",
            " conv5_block1_3_bn (BatchNormal  (None, 8, 8, 2048)  8192        ['conv5_block1_3_conv[0][0]']    \n",
            " ization)                                                                                         \n",
            "                                                                                                  \n",
            " conv5_block1_add (Add)         (None, 8, 8, 2048)   0           ['conv5_block1_0_bn[0][0]',      \n",
            "                                                                  'conv5_block1_3_bn[0][0]']      \n",
            "                                                                                                  \n",
            " conv5_block1_out (Activation)  (None, 8, 8, 2048)   0           ['conv5_block1_add[0][0]']       \n",
            "                                                                                                  \n",
            " conv5_block2_1_conv (Conv2D)   (None, 8, 8, 512)    1049088     ['conv5_block1_out[0][0]']       \n",
            "                                                                                                  \n",
            " conv5_block2_1_bn (BatchNormal  (None, 8, 8, 512)   2048        ['conv5_block2_1_conv[0][0]']    \n",
            " ization)                                                                                         \n",
            "                                                                                                  \n",
            " conv5_block2_1_relu (Activatio  (None, 8, 8, 512)   0           ['conv5_block2_1_bn[0][0]']      \n",
            " n)                                                                                               \n",
            "                                                                                                  \n",
            " conv5_block2_2_conv (Conv2D)   (None, 8, 8, 512)    2359808     ['conv5_block2_1_relu[0][0]']    \n",
            "                                                                                                  \n",
            " conv5_block2_2_bn (BatchNormal  (None, 8, 8, 512)   2048        ['conv5_block2_2_conv[0][0]']    \n",
            " ization)                                                                                         \n",
            "                                                                                                  \n",
            " conv5_block2_2_relu (Activatio  (None, 8, 8, 512)   0           ['conv5_block2_2_bn[0][0]']      \n",
            " n)                                                                                               \n",
            "                                                                                                  \n",
            " conv5_block2_3_conv (Conv2D)   (None, 8, 8, 2048)   1050624     ['conv5_block2_2_relu[0][0]']    \n",
            "                                                                                                  \n",
            " conv5_block2_3_bn (BatchNormal  (None, 8, 8, 2048)  8192        ['conv5_block2_3_conv[0][0]']    \n",
            " ization)                                                                                         \n",
            "                                                                                                  \n",
            " conv5_block2_add (Add)         (None, 8, 8, 2048)   0           ['conv5_block1_out[0][0]',       \n",
            "                                                                  'conv5_block2_3_bn[0][0]']      \n",
            "                                                                                                  \n",
            " conv5_block2_out (Activation)  (None, 8, 8, 2048)   0           ['conv5_block2_add[0][0]']       \n",
            "                                                                                                  \n",
            " conv5_block3_1_conv (Conv2D)   (None, 8, 8, 512)    1049088     ['conv5_block2_out[0][0]']       \n",
            "                                                                                                  \n",
            " conv5_block3_1_bn (BatchNormal  (None, 8, 8, 512)   2048        ['conv5_block3_1_conv[0][0]']    \n",
            " ization)                                                                                         \n",
            "                                                                                                  \n",
            " conv5_block3_1_relu (Activatio  (None, 8, 8, 512)   0           ['conv5_block3_1_bn[0][0]']      \n",
            " n)                                                                                               \n",
            "                                                                                                  \n",
            " conv5_block3_2_conv (Conv2D)   (None, 8, 8, 512)    2359808     ['conv5_block3_1_relu[0][0]']    \n",
            "                                                                                                  \n",
            " conv5_block3_2_bn (BatchNormal  (None, 8, 8, 512)   2048        ['conv5_block3_2_conv[0][0]']    \n",
            " ization)                                                                                         \n",
            "                                                                                                  \n",
            " conv5_block3_2_relu (Activatio  (None, 8, 8, 512)   0           ['conv5_block3_2_bn[0][0]']      \n",
            " n)                                                                                               \n",
            "                                                                                                  \n",
            " conv5_block3_3_conv (Conv2D)   (None, 8, 8, 2048)   1050624     ['conv5_block3_2_relu[0][0]']    \n",
            "                                                                                                  \n",
            " conv5_block3_3_bn (BatchNormal  (None, 8, 8, 2048)  8192        ['conv5_block3_3_conv[0][0]']    \n",
            " ization)                                                                                         \n",
            "                                                                                                  \n",
            " conv5_block3_add (Add)         (None, 8, 8, 2048)   0           ['conv5_block2_out[0][0]',       \n",
            "                                                                  'conv5_block3_3_bn[0][0]']      \n",
            "                                                                                                  \n",
            " conv5_block3_out (Activation)  (None, 8, 8, 2048)   0           ['conv5_block3_add[0][0]']       \n",
            "                                                                                                  \n",
            " flatten (Flatten)              (None, 131072)       0           ['conv5_block3_out[0][0]']       \n",
            "                                                                                                  \n",
            "==================================================================================================\n",
            "Total params: 58,370,944\n",
            "Trainable params: 0\n",
            "Non-trainable params: 58,370,944\n",
            "__________________________________________________________________________________________________\n"
          ]
        }
      ]
    },
    {
      "cell_type": "code",
      "source": [
        "features=restnet.predict(x_train)\n",
        "features=features.reshape(features.shape[0],-1)"
      ],
      "metadata": {
        "id": "IOtj1dDCzZps"
      },
      "execution_count": 21,
      "outputs": []
    },
    {
      "cell_type": "code",
      "source": [
        "features_test=restnet.predict(x_test)\n",
        "features_test=features_test.reshape(features_test.shape[0],-1)"
      ],
      "metadata": {
        "id": "FJoVus7Tzo-_"
      },
      "execution_count": 22,
      "outputs": []
    },
    {
      "cell_type": "code",
      "source": [
        "from sklearn.metrics import classification_report\n",
        "from sklearn.ensemble import RandomForestClassifier\n",
        "clf = RandomForestClassifier(random_state=42)\n",
        "clf.fit(features, y_train)\n",
        "y_pred = clf.predict(features_test)\n",
        "print(classification_report(y_test,y_pred,digits=4))"
      ],
      "metadata": {
        "colab": {
          "base_uri": "https://localhost:8080/"
        },
        "id": "wGFy3IYKzo9S",
        "outputId": "6bbfed6f-eb82-4a25-a752-38d952c05d0b"
      },
      "execution_count": 23,
      "outputs": [
        {
          "output_type": "stream",
          "name": "stdout",
          "text": [
            "              precision    recall  f1-score   support\n",
            "\n",
            "           0     0.8049    0.7253    0.7630        91\n",
            "           1     0.8000    0.8621    0.8299       116\n",
            "\n",
            "    accuracy                         0.8019       207\n",
            "   macro avg     0.8024    0.7937    0.7964       207\n",
            "weighted avg     0.8021    0.8019    0.8005       207\n",
            "\n"
          ]
        }
      ]
    },
    {
      "cell_type": "code",
      "source": [
        "from sklearn.metrics import confusion_matrix\n",
        "print('Confusion matrix test accuracy') \n",
        "confusion_matrix(y_test, y_pred)"
      ],
      "metadata": {
        "colab": {
          "base_uri": "https://localhost:8080/"
        },
        "id": "fJ7RJwVLQJY5",
        "outputId": "3de958c1-a526-46f1-9f85-a22be588eb58"
      },
      "execution_count": 24,
      "outputs": [
        {
          "output_type": "stream",
          "name": "stdout",
          "text": [
            "Confusion matrix test accuracy\n"
          ]
        },
        {
          "output_type": "execute_result",
          "data": {
            "text/plain": [
              "array([[ 66,  25],\n",
              "       [ 16, 100]])"
            ]
          },
          "metadata": {},
          "execution_count": 24
        }
      ]
    },
    {
      "cell_type": "code",
      "source": [
        "print('Confusion matrix test accuracy')\n",
        "sns.heatmap(confusion_matrix(y_test, y_pred),annot=True) "
      ],
      "metadata": {
        "colab": {
          "base_uri": "https://localhost:8080/",
          "height": 304
        },
        "id": "GGydWQZaQJSC",
        "outputId": "464c1522-0900-4eae-90a5-4e07de5767eb"
      },
      "execution_count": 25,
      "outputs": [
        {
          "output_type": "stream",
          "name": "stdout",
          "text": [
            "Confusion matrix test accuracy\n"
          ]
        },
        {
          "output_type": "execute_result",
          "data": {
            "text/plain": [
              "<matplotlib.axes._subplots.AxesSubplot at 0x7f3261bcb050>"
            ]
          },
          "metadata": {},
          "execution_count": 25
        },
        {
          "output_type": "display_data",
          "data": {
            "text/plain": [
              "<Figure size 432x288 with 2 Axes>"
            ],
            "image/png": "[encoded data removed]"
          },
          "metadata": {
            "needs_background": "light"
          }
        }
      ]
    },
    {
      "cell_type": "code",
      "source": [
        "from sklearn.metrics import classification_report\n",
        "from sklearn.svm import SVC\n",
        "svm = SVC()\n",
        "svm.fit(features, y_train)\n",
        "y_pred = svm.predict(features_test)\n",
        "print(classification_report(y_test, y_pred, digits=4))"
      ],
      "metadata": {
        "id": "40Ti71YKzo7b",
        "colab": {
          "base_uri": "https://localhost:8080/"
        },
        "outputId": "8631ddf4-3095-45da-f585-f8d3d127a9ad"
      },
      "execution_count": 26,
      "outputs": [
        {
          "output_type": "stream",
          "name": "stdout",
          "text": [
            "              precision    recall  f1-score   support\n",
            "\n",
            "           0     0.7191    0.7033    0.7111        91\n",
            "           1     0.7712    0.7845    0.7778       116\n",
            "\n",
            "    accuracy                         0.7488       207\n",
            "   macro avg     0.7451    0.7439    0.7444       207\n",
            "weighted avg     0.7483    0.7488    0.7485       207\n",
            "\n"
          ]
        }
      ]
    },
    {
      "cell_type": "code",
      "source": [
        "from sklearn.metrics import confusion_matrix\n",
        "print('Confusion matrix test accuracy') \n",
        "confusion_matrix(y_test, y_pred)"
      ],
      "metadata": {
        "colab": {
          "base_uri": "https://localhost:8080/"
        },
        "id": "BEZTVyzYQLGz",
        "outputId": "0ab35799-a51b-4396-f965-b98d74d44a7e"
      },
      "execution_count": 27,
      "outputs": [
        {
          "output_type": "stream",
          "name": "stdout",
          "text": [
            "Confusion matrix test accuracy\n"
          ]
        },
        {
          "output_type": "execute_result",
          "data": {
            "text/plain": [
              "array([[64, 27],\n",
              "       [25, 91]])"
            ]
          },
          "metadata": {},
          "execution_count": 27
        }
      ]
    },
    {
      "cell_type": "code",
      "source": [
        "print('Confusion matrix test accuracy')\n",
        "sns.heatmap(confusion_matrix(y_test, y_pred),annot=True) "
      ],
      "metadata": {
        "colab": {
          "base_uri": "https://localhost:8080/",
          "height": 301
        },
        "id": "Dm72DjkDQK0T",
        "outputId": "1091da8d-3392-42db-e675-2596ba88e99b"
      },
      "execution_count": 28,
      "outputs": [
        {
          "output_type": "stream",
          "name": "stdout",
          "text": [
            "Confusion matrix test accuracy\n"
          ]
        },
        {
          "output_type": "execute_result",
          "data": {
            "text/plain": [
              "<matplotlib.axes._subplots.AxesSubplot at 0x7f3260b31510>"
            ]
          },
          "metadata": {},
          "execution_count": 28
        },
        {
          "output_type": "display_data",
          "data": {
            "text/plain": [
              "<Figure size 432x288 with 2 Axes>"
            ],
            "image/png": "[encoded data removed]"
          },
          "metadata": {
            "needs_background": "light"
          }
        }
      ]
    },
    {
      "cell_type": "code",
      "source": [
        "from sklearn.tree import DecisionTreeClassifier\n",
        "dt = DecisionTreeClassifier(random_state=42)\n",
        "dt.fit(features, y_train)\n",
        "y_pred = dt.predict(features_test)\n",
        "print(classification_report(y_test, y_pred, digits=4))"
      ],
      "metadata": {
        "id": "tV8pPQ0gzo56",
        "colab": {
          "base_uri": "https://localhost:8080/"
        },
        "outputId": "1fddae57-4f14-4791-f46d-daf4ddda654c"
      },
      "execution_count": 29,
      "outputs": [
        {
          "output_type": "stream",
          "name": "stdout",
          "text": [
            "              precision    recall  f1-score   support\n",
            "\n",
            "           0     0.7294    0.6813    0.7045        91\n",
            "           1     0.7623    0.8017    0.7815       116\n",
            "\n",
            "    accuracy                         0.7488       207\n",
            "   macro avg     0.7459    0.7415    0.7430       207\n",
            "weighted avg     0.7478    0.7488    0.7477       207\n",
            "\n"
          ]
        }
      ]
    },
    {
      "cell_type": "code",
      "source": [
        "from sklearn.metrics import confusion_matrix\n",
        "print('Confusion matrix test accuracy') \n",
        "confusion_matrix(y_test, y_pred)"
      ],
      "metadata": {
        "colab": {
          "base_uri": "https://localhost:8080/"
        },
        "id": "FUnLc2-QQMyi",
        "outputId": "6331811b-58bd-4910-d014-6b321d49ffda"
      },
      "execution_count": 30,
      "outputs": [
        {
          "output_type": "stream",
          "name": "stdout",
          "text": [
            "Confusion matrix test accuracy\n"
          ]
        },
        {
          "output_type": "execute_result",
          "data": {
            "text/plain": [
              "array([[62, 29],\n",
              "       [23, 93]])"
            ]
          },
          "metadata": {},
          "execution_count": 30
        }
      ]
    },
    {
      "cell_type": "code",
      "source": [
        "print('Confusion matrix test accuracy')\n",
        "sns.heatmap(confusion_matrix(y_test, y_pred),annot=True) "
      ],
      "metadata": {
        "colab": {
          "base_uri": "https://localhost:8080/",
          "height": 300
        },
        "id": "xyxMX-WAQMtx",
        "outputId": "9e4668c1-bb2a-4e0e-a34d-9d84012f12ac"
      },
      "execution_count": 31,
      "outputs": [
        {
          "output_type": "stream",
          "name": "stdout",
          "text": [
            "Confusion matrix test accuracy\n"
          ]
        },
        {
          "output_type": "execute_result",
          "data": {
            "text/plain": [
              "<matplotlib.axes._subplots.AxesSubplot at 0x7f3260a85b10>"
            ]
          },
          "metadata": {},
          "execution_count": 31
        },
        {
          "output_type": "display_data",
          "data": {
            "text/plain": [
              "<Figure size 432x288 with 2 Axes>"
            ],
            "image/png": "[encoded data removed]"
          },
          "metadata": {
            "needs_background": "light"
          }
        }
      ]
    },
    {
      "cell_type": "code",
      "source": [
        "from sklearn.naive_bayes import GaussianNB\n",
        "g=GaussianNB()\n",
        "g.fit(features,y_train)\n",
        "y_pred = g.predict(features_test)\n",
        "print(classification_report(y_test, y_pred, digits=4))"
      ],
      "metadata": {
        "id": "GYsUVXgvzo4U",
        "colab": {
          "base_uri": "https://localhost:8080/"
        },
        "outputId": "066b9ab7-7384-4777-962e-ea162fdd8ffe"
      },
      "execution_count": 32,
      "outputs": [
        {
          "output_type": "stream",
          "name": "stdout",
          "text": [
            "              precision    recall  f1-score   support\n",
            "\n",
            "           0     0.6190    0.7143    0.6633        91\n",
            "           1     0.7451    0.6552    0.6972       116\n",
            "\n",
            "    accuracy                         0.6812       207\n",
            "   macro avg     0.6821    0.6847    0.6803       207\n",
            "weighted avg     0.6897    0.6812    0.6823       207\n",
            "\n"
          ]
        }
      ]
    },
    {
      "cell_type": "code",
      "source": [
        "from sklearn.metrics import confusion_matrix\n",
        "print('Confusion matrix test accuracy') \n",
        "confusion_matrix(y_test, y_pred)"
      ],
      "metadata": {
        "colab": {
          "base_uri": "https://localhost:8080/"
        },
        "id": "eOImzBQtQOO5",
        "outputId": "fad8a1f7-8951-44f6-81dc-b1b95876ccb7"
      },
      "execution_count": 33,
      "outputs": [
        {
          "output_type": "stream",
          "name": "stdout",
          "text": [
            "Confusion matrix test accuracy\n"
          ]
        },
        {
          "output_type": "execute_result",
          "data": {
            "text/plain": [
              "array([[65, 26],\n",
              "       [40, 76]])"
            ]
          },
          "metadata": {},
          "execution_count": 33
        }
      ]
    },
    {
      "cell_type": "code",
      "source": [
        "print('Confusion matrix test accuracy')\n",
        "sns.heatmap(confusion_matrix(y_test, y_pred),annot=True) "
      ],
      "metadata": {
        "colab": {
          "base_uri": "https://localhost:8080/",
          "height": 300
        },
        "id": "1X0W9SODQOLU",
        "outputId": "8a9419ba-f538-4fc4-f2c1-f076b612a982"
      },
      "execution_count": 34,
      "outputs": [
        {
          "output_type": "stream",
          "name": "stdout",
          "text": [
            "Confusion matrix test accuracy\n"
          ]
        },
        {
          "output_type": "execute_result",
          "data": {
            "text/plain": [
              "<matplotlib.axes._subplots.AxesSubplot at 0x7f325dfa2450>"
            ]
          },
          "metadata": {},
          "execution_count": 34
        },
        {
          "output_type": "display_data",
          "data": {
            "text/plain": [
              "<Figure size 432x288 with 2 Axes>"
            ],
            "image/png": "[encoded data removed]"
          },
          "metadata": {
            "needs_background": "light"
          }
        }
      ]
    },
    {
      "cell_type": "code",
      "source": [
        "from sklearn.neighbors import KNeighborsClassifier\n",
        "clf3 = KNeighborsClassifier(n_neighbors=3)\n",
        "clf3.fit(features, y_train)\n",
        "y_pred = clf3.predict(features_test)\n",
        "print(classification_report(y_test, y_pred, digits=4))"
      ],
      "metadata": {
        "id": "S6oWpMDCzo2f",
        "colab": {
          "base_uri": "https://localhost:8080/"
        },
        "outputId": "6b3a3eec-8250-48b1-bb94-a14874e81343"
      },
      "execution_count": 35,
      "outputs": [
        {
          "output_type": "stream",
          "name": "stdout",
          "text": [
            "              precision    recall  f1-score   support\n",
            "\n",
            "           0     0.7374    0.8022    0.7684        91\n",
            "           1     0.8333    0.7759    0.8036       116\n",
            "\n",
            "    accuracy                         0.7874       207\n",
            "   macro avg     0.7854    0.7890    0.7860       207\n",
            "weighted avg     0.7911    0.7874    0.7881       207\n",
            "\n"
          ]
        }
      ]
    },
    {
      "cell_type": "code",
      "source": [
        "from sklearn.metrics import confusion_matrix\n",
        "print('Confusion matrix test accuracy') \n",
        "confusion_matrix(y_test, y_pred)"
      ],
      "metadata": {
        "colab": {
          "base_uri": "https://localhost:8080/"
        },
        "id": "UjFtcIK0QPEp",
        "outputId": "ad92a210-b52b-451a-9a49-e58752ab811b"
      },
      "execution_count": 36,
      "outputs": [
        {
          "output_type": "stream",
          "name": "stdout",
          "text": [
            "Confusion matrix test accuracy\n"
          ]
        },
        {
          "output_type": "execute_result",
          "data": {
            "text/plain": [
              "array([[73, 18],\n",
              "       [26, 90]])"
            ]
          },
          "metadata": {},
          "execution_count": 36
        }
      ]
    },
    {
      "cell_type": "code",
      "source": [
        "print('Confusion matrix test accuracy')\n",
        "sns.heatmap(confusion_matrix(y_test, y_pred),annot=True) "
      ],
      "metadata": {
        "colab": {
          "base_uri": "https://localhost:8080/",
          "height": 304
        },
        "id": "U2tezVSMQPAg",
        "outputId": "efc91d78-8784-40f5-c33d-002245def690"
      },
      "execution_count": 37,
      "outputs": [
        {
          "output_type": "stream",
          "name": "stdout",
          "text": [
            "Confusion matrix test accuracy\n"
          ]
        },
        {
          "output_type": "execute_result",
          "data": {
            "text/plain": [
              "<matplotlib.axes._subplots.AxesSubplot at 0x7f325df3c090>"
            ]
          },
          "metadata": {},
          "execution_count": 37
        },
        {
          "output_type": "display_data",
          "data": {
            "text/plain": [
              "<Figure size 432x288 with 2 Axes>"
            ],
            "image/png": "[encoded data removed]"
          },
          "metadata": {
            "needs_background": "light"
          }
        }
      ]
    },
    {
      "cell_type": "code",
      "source": [
        "import matplotlib.pyplot as plt\n",
        "classification=['Random forest','SVM','Decision tree','KNN','Naive bayas']\n",
        "accuracy=[0.8019,0.7488,0.7488,0.7874,0.6812]\n",
        "plt.plot(classification,accuracy,'b-o',label='Classification accuracy for ML algorithms');\n",
        "plt.xlabel('Classification')\n",
        "plt.ylabel('Accuracy')\n",
        "plt.legend()\n",
        "plt.show()"
      ],
      "metadata": {
        "id": "cW-9P77vzo01",
        "colab": {
          "base_uri": "https://localhost:8080/",
          "height": 279
        },
        "outputId": "0a2e4a49-73c6-4786-944d-22cdbacf4aad"
      },
      "execution_count": 38,
      "outputs": [
        {
          "output_type": "display_data",
          "data": {
            "text/plain": [
              "<Figure size 432x288 with 1 Axes>"
            ],
            "image/png": "[encoded data removed]"
          },
          "metadata": {
            "needs_background": "light"
          }
        }
      ]
    },
    {
      "cell_type": "code",
      "source": [
        "x=['Random forest','SVM','Decision tree','KNN','Naive bayas']\n",
        "y =[0.8019,0.7488,0.7488,0.7874,0.6812]\n",
        "plt.bar(x,y, color=['purple', 'pink', 'tomato', 'yellow', 'skyblue'])\n",
        "plt.xlabel('CLASSIFICATION')\n",
        "plt.ylabel(\"ACCURACY\")\n",
        "plt.title('Classification accuracy for ML algorithms')\n",
        "plt.show()"
      ],
      "metadata": {
        "id": "LUigR9dUzozK",
        "colab": {
          "base_uri": "https://localhost:8080/",
          "height": 295
        },
        "outputId": "4d3f0bcc-032b-4929-defe-8013aa552a0e"
      },
      "execution_count": 39,
      "outputs": [
        {
          "output_type": "display_data",
          "data": {
            "text/plain": [
              "<Figure size 432x288 with 1 Axes>"
            ],
            "image/png": "[encoded data removed]"
          },
          "metadata": {
            "needs_background": "light"
          }
        }
      ]
    }
  ]
}